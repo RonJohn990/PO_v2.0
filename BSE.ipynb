{
 "cells": [
  {
   "cell_type": "code",
   "execution_count": 1,
   "metadata": {},
   "outputs": [],
   "source": [
    "import pandas as pd\n",
    "import yfinance as yf\n",
    "import sqlalchemy\n",
    "import datetime as dt\n",
    "from pandas.tseries.offsets import MonthEnd\n",
    "import matplotlib.pyplot as plt\n",
    "from matplotlib import style\n",
    "import numpy as np\n",
    "\n",
    "style.use('ggplot')"
   ]
  },
  {
   "cell_type": "code",
   "execution_count": 2,
   "metadata": {},
   "outputs": [
    {
     "data": {
      "text/plain": [
       "['ASIANPAINT.BO',\n",
       " 'AXISBANK.BO',\n",
       " 'BAJAJ-AUTO.BO',\n",
       " 'BAJFINANCE.BO',\n",
       " 'BAJAJFINSV.BO']"
      ]
     },
     "execution_count": 2,
     "metadata": {},
     "output_type": "execute_result"
    }
   ],
   "source": [
    "# url = 'https://en.wikipedia.org/wiki/List_of_BSE_SENSEX_companies''\n",
    "\n",
    "tickerSensex = pd.read_csv('./data/BSE_Company_List.csv')\n",
    "tickerSensex = tickerSensex.Symbol.to_list()\n",
    "\n",
    "# tickers = []\n",
    "# for ticker in tickerSensex:\n",
    "#     ticker = ticker.replace('.', '-')\n",
    "#     tickers.append(ticker)\n",
    "\n",
    "#tickerSensex = tickerSensex.replace('.', '-')\n",
    "tickerSensex[0:5]"
   ]
  },
  {
   "cell_type": "code",
   "execution_count": 3,
   "metadata": {},
   "outputs": [],
   "source": [
    "# data = []\n",
    "\n",
    "# for ticker in tickerSensex:\n",
    "#     data.append(yf.download(ticker).reset_index())"
   ]
  },
  {
   "cell_type": "code",
   "execution_count": 4,
   "metadata": {},
   "outputs": [],
   "source": [
    "# engine = sqlalchemy.create_engine('sqlite:///india.db')"
   ]
  },
  {
   "cell_type": "code",
   "execution_count": 5,
   "metadata": {},
   "outputs": [],
   "source": [
    "# for frame, symbol in zip(data,tickerSensex):\n",
    "#     frame.to_sql(symbol, engine, index = False)"
   ]
  },
  {
   "cell_type": "code",
   "execution_count": 6,
   "metadata": {},
   "outputs": [],
   "source": [
    "# pd.read_sql(f'SELECT Date, \"Adj Close\" AS \"{tickerSensex[0]}\" FROM \"ASIANPAINT.BO\" LIMIT(10)', engine)"
   ]
  },
  {
   "cell_type": "markdown",
   "metadata": {},
   "source": [
    "# Start Here"
   ]
  },
  {
   "cell_type": "code",
   "execution_count": 7,
   "metadata": {},
   "outputs": [],
   "source": [
    "df = pd.DataFrame()\n",
    "engine = sqlalchemy.create_engine('sqlite:///india.db')\n",
    "\n",
    "for ticker in tickerSensex:\n",
    "    df = df.append(pd.read_sql(\n",
    "        f'SELECT Date, \"Adj CLose\" AS \"{ticker}\" FROM \"{ticker}\" WHERE DATE > \"2007-01-10\"'\n",
    "        ,engine))"
   ]
  },
  {
   "cell_type": "code",
   "execution_count": 8,
   "metadata": {},
   "outputs": [
    {
     "data": {
      "text/html": [
       "<div>\n",
       "<style scoped>\n",
       "    .dataframe tbody tr th:only-of-type {\n",
       "        vertical-align: middle;\n",
       "    }\n",
       "\n",
       "    .dataframe tbody tr th {\n",
       "        vertical-align: top;\n",
       "    }\n",
       "\n",
       "    .dataframe thead th {\n",
       "        text-align: right;\n",
       "    }\n",
       "</style>\n",
       "<table border=\"1\" class=\"dataframe\">\n",
       "  <thead>\n",
       "    <tr style=\"text-align: right;\">\n",
       "      <th></th>\n",
       "      <th>ASIANPAINT.BO</th>\n",
       "      <th>AXISBANK.BO</th>\n",
       "      <th>BAJAJ-AUTO.BO</th>\n",
       "      <th>BAJFINANCE.BO</th>\n",
       "      <th>BAJAJFINSV.BO</th>\n",
       "      <th>BHARTIARTL.BO</th>\n",
       "      <th>DRREDDY.BO</th>\n",
       "      <th>HCLTECH.BO</th>\n",
       "      <th>HDFC.BO</th>\n",
       "      <th>HDFCBANK.BO</th>\n",
       "      <th>...</th>\n",
       "      <th>NTPC.BO</th>\n",
       "      <th>ONGC.BO</th>\n",
       "      <th>POWERGRID.BO</th>\n",
       "      <th>RELIANCE.BO</th>\n",
       "      <th>SBIN.BO</th>\n",
       "      <th>SUNPHARMA.BO</th>\n",
       "      <th>TCS.BO</th>\n",
       "      <th>TECHM.BO</th>\n",
       "      <th>TITAN.BO</th>\n",
       "      <th>ULTRACEMCO.BO</th>\n",
       "    </tr>\n",
       "    <tr>\n",
       "      <th>Date</th>\n",
       "      <th></th>\n",
       "      <th></th>\n",
       "      <th></th>\n",
       "      <th></th>\n",
       "      <th></th>\n",
       "      <th></th>\n",
       "      <th></th>\n",
       "      <th></th>\n",
       "      <th></th>\n",
       "      <th></th>\n",
       "      <th></th>\n",
       "      <th></th>\n",
       "      <th></th>\n",
       "      <th></th>\n",
       "      <th></th>\n",
       "      <th></th>\n",
       "      <th></th>\n",
       "      <th></th>\n",
       "      <th></th>\n",
       "      <th></th>\n",
       "      <th></th>\n",
       "    </tr>\n",
       "  </thead>\n",
       "  <tbody>\n",
       "    <tr>\n",
       "      <th>2007-01-10</th>\n",
       "      <td>62.436817</td>\n",
       "      <td>81.921684</td>\n",
       "      <td>0.0</td>\n",
       "      <td>32.834297</td>\n",
       "      <td>2604.056152</td>\n",
       "      <td>266.222595</td>\n",
       "      <td>696.785522</td>\n",
       "      <td>54.860710</td>\n",
       "      <td>249.344391</td>\n",
       "      <td>90.594536</td>\n",
       "      <td>...</td>\n",
       "      <td>67.110977</td>\n",
       "      <td>87.987556</td>\n",
       "      <td>0.0</td>\n",
       "      <td>284.154999</td>\n",
       "      <td>91.023743</td>\n",
       "      <td>79.072044</td>\n",
       "      <td>234.631042</td>\n",
       "      <td>342.602234</td>\n",
       "      <td>38.810364</td>\n",
       "      <td>970.902161</td>\n",
       "    </tr>\n",
       "    <tr>\n",
       "      <th>2007-01-11</th>\n",
       "      <td>63.016232</td>\n",
       "      <td>85.265244</td>\n",
       "      <td>0.0</td>\n",
       "      <td>32.825546</td>\n",
       "      <td>2659.520508</td>\n",
       "      <td>276.622253</td>\n",
       "      <td>711.390808</td>\n",
       "      <td>56.545277</td>\n",
       "      <td>248.658463</td>\n",
       "      <td>90.590019</td>\n",
       "      <td>...</td>\n",
       "      <td>69.383362</td>\n",
       "      <td>90.424095</td>\n",
       "      <td>0.0</td>\n",
       "      <td>289.031067</td>\n",
       "      <td>92.072571</td>\n",
       "      <td>81.715851</td>\n",
       "      <td>242.825378</td>\n",
       "      <td>361.730499</td>\n",
       "      <td>40.264267</td>\n",
       "      <td>995.855774</td>\n",
       "    </tr>\n",
       "    <tr>\n",
       "      <th>2007-01-12</th>\n",
       "      <td>62.285435</td>\n",
       "      <td>88.546722</td>\n",
       "      <td>0.0</td>\n",
       "      <td>32.549824</td>\n",
       "      <td>2668.338867</td>\n",
       "      <td>288.628510</td>\n",
       "      <td>728.198120</td>\n",
       "      <td>58.951141</td>\n",
       "      <td>259.094788</td>\n",
       "      <td>96.382469</td>\n",
       "      <td>...</td>\n",
       "      <td>69.938820</td>\n",
       "      <td>91.417488</td>\n",
       "      <td>0.0</td>\n",
       "      <td>299.062317</td>\n",
       "      <td>97.953201</td>\n",
       "      <td>82.902527</td>\n",
       "      <td>251.970276</td>\n",
       "      <td>374.665344</td>\n",
       "      <td>40.818893</td>\n",
       "      <td>1001.556763</td>\n",
       "    </tr>\n",
       "    <tr>\n",
       "      <th>2007-01-15</th>\n",
       "      <td>67.733917</td>\n",
       "      <td>94.710587</td>\n",
       "      <td>0.0</td>\n",
       "      <td>32.904324</td>\n",
       "      <td>2666.459229</td>\n",
       "      <td>287.238922</td>\n",
       "      <td>723.839050</td>\n",
       "      <td>58.616112</td>\n",
       "      <td>260.687225</td>\n",
       "      <td>98.965973</td>\n",
       "      <td>...</td>\n",
       "      <td>69.964088</td>\n",
       "      <td>90.572350</td>\n",
       "      <td>0.0</td>\n",
       "      <td>304.541016</td>\n",
       "      <td>97.837112</td>\n",
       "      <td>84.424240</td>\n",
       "      <td>252.464645</td>\n",
       "      <td>379.213898</td>\n",
       "      <td>41.053986</td>\n",
       "      <td>1043.660522</td>\n",
       "    </tr>\n",
       "    <tr>\n",
       "      <th>2007-01-16</th>\n",
       "      <td>67.889595</td>\n",
       "      <td>97.841293</td>\n",
       "      <td>0.0</td>\n",
       "      <td>34.142944</td>\n",
       "      <td>2674.024658</td>\n",
       "      <td>291.125244</td>\n",
       "      <td>727.209473</td>\n",
       "      <td>59.463070</td>\n",
       "      <td>254.766754</td>\n",
       "      <td>99.342171</td>\n",
       "      <td>...</td>\n",
       "      <td>69.661110</td>\n",
       "      <td>90.923241</td>\n",
       "      <td>0.0</td>\n",
       "      <td>300.602173</td>\n",
       "      <td>96.816315</td>\n",
       "      <td>83.758240</td>\n",
       "      <td>252.455231</td>\n",
       "      <td>367.152191</td>\n",
       "      <td>41.289078</td>\n",
       "      <td>1068.286865</td>\n",
       "    </tr>\n",
       "  </tbody>\n",
       "</table>\n",
       "<p>5 rows × 30 columns</p>\n",
       "</div>"
      ],
      "text/plain": [
       "            ASIANPAINT.BO  AXISBANK.BO  BAJAJ-AUTO.BO  BAJFINANCE.BO  \\\n",
       "Date                                                                   \n",
       "2007-01-10      62.436817    81.921684            0.0      32.834297   \n",
       "2007-01-11      63.016232    85.265244            0.0      32.825546   \n",
       "2007-01-12      62.285435    88.546722            0.0      32.549824   \n",
       "2007-01-15      67.733917    94.710587            0.0      32.904324   \n",
       "2007-01-16      67.889595    97.841293            0.0      34.142944   \n",
       "\n",
       "            BAJAJFINSV.BO  BHARTIARTL.BO  DRREDDY.BO  HCLTECH.BO     HDFC.BO  \\\n",
       "Date                                                                           \n",
       "2007-01-10    2604.056152     266.222595  696.785522   54.860710  249.344391   \n",
       "2007-01-11    2659.520508     276.622253  711.390808   56.545277  248.658463   \n",
       "2007-01-12    2668.338867     288.628510  728.198120   58.951141  259.094788   \n",
       "2007-01-15    2666.459229     287.238922  723.839050   58.616112  260.687225   \n",
       "2007-01-16    2674.024658     291.125244  727.209473   59.463070  254.766754   \n",
       "\n",
       "            HDFCBANK.BO  ...    NTPC.BO    ONGC.BO  POWERGRID.BO  RELIANCE.BO  \\\n",
       "Date                     ...                                                    \n",
       "2007-01-10    90.594536  ...  67.110977  87.987556           0.0   284.154999   \n",
       "2007-01-11    90.590019  ...  69.383362  90.424095           0.0   289.031067   \n",
       "2007-01-12    96.382469  ...  69.938820  91.417488           0.0   299.062317   \n",
       "2007-01-15    98.965973  ...  69.964088  90.572350           0.0   304.541016   \n",
       "2007-01-16    99.342171  ...  69.661110  90.923241           0.0   300.602173   \n",
       "\n",
       "              SBIN.BO  SUNPHARMA.BO      TCS.BO    TECHM.BO   TITAN.BO  \\\n",
       "Date                                                                     \n",
       "2007-01-10  91.023743     79.072044  234.631042  342.602234  38.810364   \n",
       "2007-01-11  92.072571     81.715851  242.825378  361.730499  40.264267   \n",
       "2007-01-12  97.953201     82.902527  251.970276  374.665344  40.818893   \n",
       "2007-01-15  97.837112     84.424240  252.464645  379.213898  41.053986   \n",
       "2007-01-16  96.816315     83.758240  252.455231  367.152191  41.289078   \n",
       "\n",
       "            ULTRACEMCO.BO  \n",
       "Date                       \n",
       "2007-01-10     970.902161  \n",
       "2007-01-11     995.855774  \n",
       "2007-01-12    1001.556763  \n",
       "2007-01-15    1043.660522  \n",
       "2007-01-16    1068.286865  \n",
       "\n",
       "[5 rows x 30 columns]"
      ]
     },
     "execution_count": 8,
     "metadata": {},
     "output_type": "execute_result"
    }
   ],
   "source": [
    "df = df.groupby('Date').sum() # Resets Index to the date\n",
    "df.index = pd.to_datetime(df.index) # Sets Index Dates as Datetime objects\n",
    "df.head()"
   ]
  },
  {
   "cell_type": "markdown",
   "metadata": {},
   "source": [
    "# Visualizing Selected Tickers"
   ]
  },
  {
   "cell_type": "markdown",
   "metadata": {},
   "source": [
    "## Line Plot of Adj Close Prices"
   ]
  },
  {
   "cell_type": "code",
   "execution_count": 9,
   "metadata": {},
   "outputs": [
    {
     "data": {
      "text/plain": [
       "<matplotlib.legend.Legend at 0x7f1716c9da20>"
      ]
     },
     "execution_count": 9,
     "metadata": {},
     "output_type": "execute_result"
    },
    {
     "data": {
      "image/png": "[encoded data removed]",
      "text/plain": [
       "<Figure size 720x360 with 1 Axes>"
      ]
     },
     "metadata": {},
     "output_type": "display_data"
    }
   ],
   "source": [
    "tickers_choice = ['AXISBANK.BO', 'BAJFINANCE.BO', 'BHARTIARTL.BO', 'HDFC.BO', 'NTPC.BO']\n",
    "df_subset_vis = df[tickers_choice]\n",
    "\n",
    "plt.figure(figsize = (10, 5))\n",
    "plt.plot(df_subset_vis)\n",
    "plt.legend(tickers_choice)\n"
   ]
  },
  {
   "cell_type": "markdown",
   "metadata": {},
   "source": [
    "## Line Chart & Histogram of Percentage Change"
   ]
  },
  {
   "cell_type": "code",
   "execution_count": 10,
   "metadata": {},
   "outputs": [],
   "source": [
    "df_returns = df_subset_vis.pct_change()\n",
    "df_returns = df_returns.dropna()"
   ]
  },
  {
   "cell_type": "code",
   "execution_count": 11,
   "metadata": {},
   "outputs": [
    {
     "data": {
      "text/plain": [
       "AXISBANK.BO      0\n",
       "BAJFINANCE.BO    1\n",
       "BHARTIARTL.BO    0\n",
       "HDFC.BO          0\n",
       "NTPC.BO          0\n",
       "dtype: int64"
      ]
     },
     "execution_count": 11,
     "metadata": {},
     "output_type": "execute_result"
    }
   ],
   "source": [
    "np.sum(np.isinf(df_returns) == True)"
   ]
  },
  {
   "cell_type": "code",
   "execution_count": 12,
   "metadata": {},
   "outputs": [],
   "source": [
    "# Pulling outlier with Inf pct change\n",
    "outlier_index = df_returns[np.isinf(df_returns['BAJFINANCE.BO']) == True].index\n",
    "df_returns.loc[outlier_index, 'BAJFINANCE.BO'] = -1"
   ]
  },
  {
   "cell_type": "code",
   "execution_count": 13,
   "metadata": {},
   "outputs": [
    {
     "data": {
      "text/plain": [
       "AXISBANK.BO     -0.280145\n",
       "BAJFINANCE.BO   -1.000000\n",
       "BHARTIARTL.BO   -0.131822\n",
       "HDFC.BO         -0.128656\n",
       "NTPC.BO         -0.141515\n",
       "dtype: float64"
      ]
     },
     "execution_count": 13,
     "metadata": {},
     "output_type": "execute_result"
    }
   ],
   "source": [
    "# Replacing Inf with max negative pct_change so as to no lose information\n",
    "np.min(df_returns)"
   ]
  },
  {
   "cell_type": "code",
   "execution_count": 14,
   "metadata": {},
   "outputs": [
    {
     "data": {
      "text/plain": [
       "<matplotlib.legend.Legend at 0x7f17162d22c0>"
      ]
     },
     "execution_count": 14,
     "metadata": {},
     "output_type": "execute_result"
    },
    {
     "data": {
      "image/png": "[encoded data removed]",
      "text/plain": [
       "<Figure size 720x360 with 1 Axes>"
      ]
     },
     "metadata": {},
     "output_type": "display_data"
    }
   ],
   "source": [
    "plt.figure(figsize = (10, 5))\n",
    "plt.plot(df_returns, alpha = 0.6)\n",
    "plt.legend(tickers_choice)"
   ]
  },
  {
   "cell_type": "code",
   "execution_count": 15,
   "metadata": {},
   "outputs": [
    {
     "data": {
      "text/plain": [
       "(-0.2, 0.2)"
      ]
     },
     "execution_count": 15,
     "metadata": {},
     "output_type": "execute_result"
    },
    {
     "data": {
      "image/png": "[encoded data removed]",
      "text/plain": [
       "<Figure size 720x360 with 1 Axes>"
      ]
     },
     "metadata": {},
     "output_type": "display_data"
    }
   ],
   "source": [
    "plt.figure(figsize = (10, 5))\n",
    "plt.hist(df_returns, bins = 500, stacked = True, alpha = 0.6)\n",
    "plt.legend(tickers_choice)\n",
    "plt.xlim(-0.2, 0.2)"
   ]
  },
  {
   "cell_type": "markdown",
   "metadata": {},
   "source": [
    "# Portfolio Optimization"
   ]
  },
  {
   "cell_type": "code",
   "execution_count": 16,
   "metadata": {},
   "outputs": [],
   "source": [
    "def efficient_frontier(no_portfolios = 100, RF = 0 ):\n",
    "    portfolio_returns = []\n",
    "    portfolio_risk = []\n",
    "    sharpe_ratio = []\n",
    "    portfolio_weights = []\n",
    "    #RF = 0.02\n",
    "    df_returns_mean = df_returns.mean() * 252\n",
    "    \n",
    "    for portfolio in range(no_portfolios):\n",
    "        # Generate Random Weights\n",
    "        weights = np.random.random(len(tickers_choice))\n",
    "        weights = np.round(weights / np.sum(weights), 3)\n",
    "        portfolio_weights.append(weights)\n",
    "\n",
    "        # Annualized Returns\n",
    "        annualized_returns = np.sum(df_returns_mean * weights)\n",
    "        portfolio_returns.append(annualized_returns)\n",
    "\n",
    "        # Covariance Matrix & Portfolio Risk Calc\n",
    "        matrix_covariance = df_returns.cov() * 252\n",
    "        portfolio_variance = np.dot(weights.T, np.dot(matrix_covariance, weights))\n",
    "        portfolio_std = np.sqrt(portfolio_variance)\n",
    "        portfolio_risk.append(portfolio_std)\n",
    "\n",
    "        # Sharpe Ratio\n",
    "        sharpe = (annualized_returns - RF) / portfolio_std\n",
    "        sharpe_ratio.append(sharpe)\n",
    "    \n",
    "    df_metrics = pd.DataFrame([np.array(portfolio_returns),\n",
    "                            np.array(portfolio_risk),\n",
    "                            np.array(sharpe_ratio),\n",
    "                            np.array(portfolio_weights)], index = ['Returns', 'Risk', 'Sharpe_ratio', 'Weights'])\n",
    "\n",
    "    df_metrics = df_metrics.T\n",
    "    \n",
    "    min_risk = df_metrics.iloc[df_metrics['Risk'].astype(float).idxmin()]\n",
    "\n",
    "    max_return = df_metrics.iloc[df_metrics['Returns'].astype(float).idxmax()]\n",
    "\n",
    "    max_sharpe = df_metrics.iloc[df_metrics['Sharpe_ratio'].astype(float).idxmax()]\n",
    "\n",
    "    plt.figure(figsize = (10 ,5))\n",
    "    plt.scatter(df_metrics['Risk'], df_metrics['Returns'], c = df_metrics['Sharpe_ratio'], cmap = 'magma')\n",
    "\n",
    "    return min_risk, max_return, max_sharpe\n"
   ]
  },
  {
   "cell_type": "code",
   "execution_count": 17,
   "metadata": {},
   "outputs": [
    {
     "data": {
      "image/png": "[encoded data removed]",
      "text/plain": [
       "<Figure size 720x360 with 1 Axes>"
      ]
     },
     "metadata": {},
     "output_type": "display_data"
    }
   ],
   "source": [
    "tmp = efficient_frontier(250, 0)"
   ]
  },
  {
   "cell_type": "code",
   "execution_count": 18,
   "metadata": {},
   "outputs": [],
   "source": [
    "min_risk = pd.DataFrame({'Min Risk' : tmp[0]})\n",
    "max_return = pd.DataFrame({'Max Return' : tmp[1]})\n",
    "max_sharpe = pd.DataFrame({'Max Sharpe Ratio' : tmp[2]})\n",
    "\n",
    "final_portfolios_df = pd.concat([min_risk, max_return, max_sharpe], axis = 1)"
   ]
  },
  {
   "cell_type": "code",
   "execution_count": 19,
   "metadata": {},
   "outputs": [
    {
     "data": {
      "text/html": [
       "<div>\n",
       "<style scoped>\n",
       "    .dataframe tbody tr th:only-of-type {\n",
       "        vertical-align: middle;\n",
       "    }\n",
       "\n",
       "    .dataframe tbody tr th {\n",
       "        vertical-align: top;\n",
       "    }\n",
       "\n",
       "    .dataframe thead th {\n",
       "        text-align: right;\n",
       "    }\n",
       "</style>\n",
       "<table border=\"1\" class=\"dataframe\">\n",
       "  <thead>\n",
       "    <tr style=\"text-align: right;\">\n",
       "      <th></th>\n",
       "      <th>Weights</th>\n",
       "    </tr>\n",
       "  </thead>\n",
       "  <tbody>\n",
       "    <tr>\n",
       "      <th>Min Risk</th>\n",
       "      <td>[0.109, 0.035, 0.196, 0.183, 0.478]</td>\n",
       "    </tr>\n",
       "    <tr>\n",
       "      <th>Max Return</th>\n",
       "      <td>[0.42, 0.462, 0.016, 0.029, 0.073]</td>\n",
       "    </tr>\n",
       "    <tr>\n",
       "      <th>Max Sharpe Ratio</th>\n",
       "      <td>[0.124, 0.259, 0.055, 0.463, 0.099]</td>\n",
       "    </tr>\n",
       "  </tbody>\n",
       "</table>\n",
       "</div>"
      ],
      "text/plain": [
       "                                              Weights\n",
       "Min Risk          [0.109, 0.035, 0.196, 0.183, 0.478]\n",
       "Max Return         [0.42, 0.462, 0.016, 0.029, 0.073]\n",
       "Max Sharpe Ratio  [0.124, 0.259, 0.055, 0.463, 0.099]"
      ]
     },
     "execution_count": 19,
     "metadata": {},
     "output_type": "execute_result"
    }
   ],
   "source": [
    "weights_df = pd.DataFrame(final_portfolios_df.loc['Weights'])\n",
    "weights_df"
   ]
  },
  {
   "cell_type": "code",
   "execution_count": 20,
   "metadata": {},
   "outputs": [
    {
     "data": {
      "text/html": [
       "<div>\n",
       "<style scoped>\n",
       "    .dataframe tbody tr th:only-of-type {\n",
       "        vertical-align: middle;\n",
       "    }\n",
       "\n",
       "    .dataframe tbody tr th {\n",
       "        vertical-align: top;\n",
       "    }\n",
       "\n",
       "    .dataframe thead th {\n",
       "        text-align: right;\n",
       "    }\n",
       "</style>\n",
       "<table border=\"1\" class=\"dataframe\">\n",
       "  <thead>\n",
       "    <tr style=\"text-align: right;\">\n",
       "      <th></th>\n",
       "      <th>Min Risk</th>\n",
       "      <th>Max Return</th>\n",
       "      <th>Max Sharpe Ratio</th>\n",
       "    </tr>\n",
       "  </thead>\n",
       "  <tbody>\n",
       "    <tr>\n",
       "      <th>Returns</th>\n",
       "      <td>0.149926</td>\n",
       "      <td>0.274946</td>\n",
       "      <td>0.240397</td>\n",
       "    </tr>\n",
       "    <tr>\n",
       "      <th>Risk</th>\n",
       "      <td>0.245344</td>\n",
       "      <td>0.372379</td>\n",
       "      <td>0.295742</td>\n",
       "    </tr>\n",
       "    <tr>\n",
       "      <th>Sharpe_ratio</th>\n",
       "      <td>0.611086</td>\n",
       "      <td>0.73835</td>\n",
       "      <td>0.81286</td>\n",
       "    </tr>\n",
       "  </tbody>\n",
       "</table>\n",
       "</div>"
      ],
      "text/plain": [
       "              Min Risk Max Return Max Sharpe Ratio\n",
       "Returns       0.149926   0.274946         0.240397\n",
       "Risk          0.245344   0.372379         0.295742\n",
       "Sharpe_ratio  0.611086    0.73835          0.81286"
      ]
     },
     "execution_count": 20,
     "metadata": {},
     "output_type": "execute_result"
    }
   ],
   "source": [
    "final_portfolios_df.drop('Weights', axis = 0)"
   ]
  },
  {
   "cell_type": "code",
   "execution_count": 21,
   "metadata": {},
   "outputs": [],
   "source": [
    "wt_index = weights_df.index\n",
    "wt_col = tickers_choice"
   ]
  },
  {
   "cell_type": "code",
   "execution_count": 22,
   "metadata": {},
   "outputs": [
    {
     "data": {
      "text/plain": [
       "[['[0.109', '0.035', '0.196', '0.183', '0.478]'],\n",
       " ['[0.42', '0.462', '0.016', '0.029', '0.073]'],\n",
       " ['[0.124', '0.259', '0.055', '0.463', '0.099]']]"
      ]
     },
     "execution_count": 22,
     "metadata": {},
     "output_type": "execute_result"
    }
   ],
   "source": [
    "tmp = []\n",
    "for weight in weights_df['Weights']:\n",
    "    tmp.append(str(weight).split())\n",
    "\n",
    "tmp"
   ]
  },
  {
   "cell_type": "code",
   "execution_count": 23,
   "metadata": {},
   "outputs": [
    {
     "data": {
      "text/html": [
       "<div>\n",
       "<style scoped>\n",
       "    .dataframe tbody tr th:only-of-type {\n",
       "        vertical-align: middle;\n",
       "    }\n",
       "\n",
       "    .dataframe tbody tr th {\n",
       "        vertical-align: top;\n",
       "    }\n",
       "\n",
       "    .dataframe thead th {\n",
       "        text-align: right;\n",
       "    }\n",
       "</style>\n",
       "<table border=\"1\" class=\"dataframe\">\n",
       "  <thead>\n",
       "    <tr style=\"text-align: right;\">\n",
       "      <th></th>\n",
       "      <th>AXISBANK.BO</th>\n",
       "      <th>BAJFINANCE.BO</th>\n",
       "      <th>BHARTIARTL.BO</th>\n",
       "      <th>HDFC.BO</th>\n",
       "      <th>NTPC.BO</th>\n",
       "    </tr>\n",
       "  </thead>\n",
       "  <tbody>\n",
       "    <tr>\n",
       "      <th>Min Risk</th>\n",
       "      <td>0.109</td>\n",
       "      <td>0.035</td>\n",
       "      <td>0.196</td>\n",
       "      <td>0.183</td>\n",
       "      <td>0.478</td>\n",
       "    </tr>\n",
       "    <tr>\n",
       "      <th>Max Return</th>\n",
       "      <td>0.420</td>\n",
       "      <td>0.462</td>\n",
       "      <td>0.016</td>\n",
       "      <td>0.029</td>\n",
       "      <td>0.073</td>\n",
       "    </tr>\n",
       "    <tr>\n",
       "      <th>Max Sharpe Ratio</th>\n",
       "      <td>0.124</td>\n",
       "      <td>0.259</td>\n",
       "      <td>0.055</td>\n",
       "      <td>0.463</td>\n",
       "      <td>0.099</td>\n",
       "    </tr>\n",
       "  </tbody>\n",
       "</table>\n",
       "</div>"
      ],
      "text/plain": [
       "                  AXISBANK.BO  BAJFINANCE.BO  BHARTIARTL.BO  HDFC.BO  NTPC.BO\n",
       "Min Risk                0.109          0.035          0.196    0.183    0.478\n",
       "Max Return              0.420          0.462          0.016    0.029    0.073\n",
       "Max Sharpe Ratio        0.124          0.259          0.055    0.463    0.099"
      ]
     },
     "execution_count": 23,
     "metadata": {},
     "output_type": "execute_result"
    }
   ],
   "source": [
    "tmp_min = (weights_df.iloc[0][0])\n",
    "tmp_max = (weights_df.iloc[1][0])\n",
    "tmp_sharpe = (weights_df.iloc[2][0])\n",
    "\n",
    "tmp_port = pd.DataFrame([tmp_min, tmp_max, tmp_sharpe], columns = wt_col, index = wt_index)\n",
    "tmp_port"
   ]
  },
  {
   "cell_type": "code",
   "execution_count": 24,
   "metadata": {},
   "outputs": [
    {
     "data": {
      "text/plain": [
       "0.109"
      ]
     },
     "execution_count": 24,
     "metadata": {},
     "output_type": "execute_result"
    }
   ],
   "source": [
    "tmp_min[0]"
   ]
  },
  {
   "cell_type": "markdown",
   "metadata": {},
   "source": [
    "# Choice of Currenct using 'forex-python' package"
   ]
  },
  {
   "cell_type": "code",
   "execution_count": 25,
   "metadata": {},
   "outputs": [],
   "source": [
    "from forex_python.converter import CurrencyRates\n",
    "c = CurrencyRates()"
   ]
  },
  {
   "cell_type": "code",
   "execution_count": 26,
   "metadata": {},
   "outputs": [],
   "source": [
    "usd_amt = 100.45\n",
    "gbp_amt = 100.45\n",
    "inr_amt = 100.45"
   ]
  },
  {
   "cell_type": "code",
   "execution_count": 27,
   "metadata": {},
   "outputs": [
    {
     "data": {
      "text/plain": [
       "1.3491103593578444"
      ]
     },
     "execution_count": 27,
     "metadata": {},
     "output_type": "execute_result"
    }
   ],
   "source": [
    "c.convert('INR', 'USD', inr_amt)"
   ]
  },
  {
   "cell_type": "code",
   "execution_count": 28,
   "metadata": {},
   "outputs": [
    {
     "data": {
      "text/html": [
       "<div>\n",
       "<style scoped>\n",
       "    .dataframe tbody tr th:only-of-type {\n",
       "        vertical-align: middle;\n",
       "    }\n",
       "\n",
       "    .dataframe tbody tr th {\n",
       "        vertical-align: top;\n",
       "    }\n",
       "\n",
       "    .dataframe thead th {\n",
       "        text-align: right;\n",
       "    }\n",
       "</style>\n",
       "<table border=\"1\" class=\"dataframe\">\n",
       "  <thead>\n",
       "    <tr style=\"text-align: right;\">\n",
       "      <th></th>\n",
       "      <th>AXISBANK.BO</th>\n",
       "      <th>BAJFINANCE.BO</th>\n",
       "      <th>BHARTIARTL.BO</th>\n",
       "      <th>HDFC.BO</th>\n",
       "      <th>NTPC.BO</th>\n",
       "    </tr>\n",
       "    <tr>\n",
       "      <th>Date</th>\n",
       "      <th></th>\n",
       "      <th></th>\n",
       "      <th></th>\n",
       "      <th></th>\n",
       "      <th></th>\n",
       "    </tr>\n",
       "  </thead>\n",
       "  <tbody>\n",
       "    <tr>\n",
       "      <th>2007-01-10</th>\n",
       "      <td>1.100263</td>\n",
       "      <td>0.440986</td>\n",
       "      <td>3.575547</td>\n",
       "      <td>3.348861</td>\n",
       "      <td>0.901345</td>\n",
       "    </tr>\n",
       "    <tr>\n",
       "      <th>2007-01-11</th>\n",
       "      <td>1.145169</td>\n",
       "      <td>0.440869</td>\n",
       "      <td>3.715221</td>\n",
       "      <td>3.339649</td>\n",
       "      <td>0.931865</td>\n",
       "    </tr>\n",
       "    <tr>\n",
       "      <th>2007-01-12</th>\n",
       "      <td>1.189241</td>\n",
       "      <td>0.437166</td>\n",
       "      <td>3.876473</td>\n",
       "      <td>3.479815</td>\n",
       "      <td>0.939325</td>\n",
       "    </tr>\n",
       "    <tr>\n",
       "      <th>2007-01-15</th>\n",
       "      <td>1.272026</td>\n",
       "      <td>0.441927</td>\n",
       "      <td>3.857810</td>\n",
       "      <td>3.501203</td>\n",
       "      <td>0.939664</td>\n",
       "    </tr>\n",
       "    <tr>\n",
       "      <th>2007-01-16</th>\n",
       "      <td>1.314074</td>\n",
       "      <td>0.458562</td>\n",
       "      <td>3.910006</td>\n",
       "      <td>3.421687</td>\n",
       "      <td>0.935595</td>\n",
       "    </tr>\n",
       "    <tr>\n",
       "      <th>...</th>\n",
       "      <td>...</td>\n",
       "      <td>...</td>\n",
       "      <td>...</td>\n",
       "      <td>...</td>\n",
       "      <td>...</td>\n",
       "    </tr>\n",
       "    <tr>\n",
       "      <th>2021-09-22</th>\n",
       "      <td>10.588737</td>\n",
       "      <td>104.634958</td>\n",
       "      <td>9.580978</td>\n",
       "      <td>36.706681</td>\n",
       "      <td>1.670775</td>\n",
       "    </tr>\n",
       "    <tr>\n",
       "      <th>2021-09-23</th>\n",
       "      <td>10.910401</td>\n",
       "      <td>106.068013</td>\n",
       "      <td>9.573727</td>\n",
       "      <td>37.846943</td>\n",
       "      <td>1.693607</td>\n",
       "    </tr>\n",
       "    <tr>\n",
       "      <th>2021-09-24</th>\n",
       "      <td>10.720357</td>\n",
       "      <td>104.683979</td>\n",
       "      <td>9.745110</td>\n",
       "      <td>38.122272</td>\n",
       "      <td>1.670103</td>\n",
       "    </tr>\n",
       "    <tr>\n",
       "      <th>2021-09-27</th>\n",
       "      <td>10.698197</td>\n",
       "      <td>104.701442</td>\n",
       "      <td>9.708356</td>\n",
       "      <td>38.157865</td>\n",
       "      <td>1.705023</td>\n",
       "    </tr>\n",
       "    <tr>\n",
       "      <th>2021-09-28</th>\n",
       "      <td>10.596124</td>\n",
       "      <td>101.331683</td>\n",
       "      <td>9.351101</td>\n",
       "      <td>37.662272</td>\n",
       "      <td>1.772176</td>\n",
       "    </tr>\n",
       "  </tbody>\n",
       "</table>\n",
       "<p>3620 rows × 5 columns</p>\n",
       "</div>"
      ],
      "text/plain": [
       "            AXISBANK.BO  BAJFINANCE.BO  BHARTIARTL.BO    HDFC.BO   NTPC.BO\n",
       "Date                                                                      \n",
       "2007-01-10     1.100263       0.440986       3.575547   3.348861  0.901345\n",
       "2007-01-11     1.145169       0.440869       3.715221   3.339649  0.931865\n",
       "2007-01-12     1.189241       0.437166       3.876473   3.479815  0.939325\n",
       "2007-01-15     1.272026       0.441927       3.857810   3.501203  0.939664\n",
       "2007-01-16     1.314074       0.458562       3.910006   3.421687  0.935595\n",
       "...                 ...            ...            ...        ...       ...\n",
       "2021-09-22    10.588737     104.634958       9.580978  36.706681  1.670775\n",
       "2021-09-23    10.910401     106.068013       9.573727  37.846943  1.693607\n",
       "2021-09-24    10.720357     104.683979       9.745110  38.122272  1.670103\n",
       "2021-09-27    10.698197     104.701442       9.708356  38.157865  1.705023\n",
       "2021-09-28    10.596124     101.331683       9.351101  37.662272  1.772176\n",
       "\n",
       "[3620 rows x 5 columns]"
      ]
     },
     "execution_count": 28,
     "metadata": {},
     "output_type": "execute_result"
    }
   ],
   "source": [
    "c.convert('INR', 'USD', df_subset_vis)"
   ]
  },
  {
   "cell_type": "markdown",
   "metadata": {},
   "source": [
    "# Fitting Distribution to Data"
   ]
  },
  {
   "cell_type": "code",
   "execution_count": 29,
   "metadata": {},
   "outputs": [],
   "source": [
    "from fitter import Fitter"
   ]
  },
  {
   "cell_type": "code",
   "execution_count": 30,
   "metadata": {},
   "outputs": [],
   "source": [
    "f = Fitter(data = df_returns['AXISBANK.BO'], distributions = ['norm', 't', 'nct'])"
   ]
  },
  {
   "cell_type": "code",
   "execution_count": 37,
   "metadata": {},
   "outputs": [],
   "source": [
    "a = f.fit()"
   ]
  },
  {
   "cell_type": "code",
   "execution_count": 38,
   "metadata": {},
   "outputs": [],
   "source": [
    "a"
   ]
  },
  {
   "cell_type": "code",
   "execution_count": 41,
   "metadata": {},
   "outputs": [],
   "source": [
    "a = f.summary(plot = False, method = 'bic')"
   ]
  },
  {
   "cell_type": "code",
   "execution_count": 42,
   "metadata": {},
   "outputs": [
    {
     "data": {
      "text/html": [
       "<div>\n",
       "<style scoped>\n",
       "    .dataframe tbody tr th:only-of-type {\n",
       "        vertical-align: middle;\n",
       "    }\n",
       "\n",
       "    .dataframe tbody tr th {\n",
       "        vertical-align: top;\n",
       "    }\n",
       "\n",
       "    .dataframe thead th {\n",
       "        text-align: right;\n",
       "    }\n",
       "</style>\n",
       "<table border=\"1\" class=\"dataframe\">\n",
       "  <thead>\n",
       "    <tr style=\"text-align: right;\">\n",
       "      <th></th>\n",
       "      <th>sumsquare_error</th>\n",
       "      <th>aic</th>\n",
       "      <th>bic</th>\n",
       "      <th>kl_div</th>\n",
       "    </tr>\n",
       "  </thead>\n",
       "  <tbody>\n",
       "    <tr>\n",
       "      <th>nct</th>\n",
       "      <td>16.846525</td>\n",
       "      <td>501.242297</td>\n",
       "      <td>-19400.561561</td>\n",
       "      <td>inf</td>\n",
       "    </tr>\n",
       "    <tr>\n",
       "      <th>t</th>\n",
       "      <td>19.501661</td>\n",
       "      <td>489.176681</td>\n",
       "      <td>-18879.096018</td>\n",
       "      <td>inf</td>\n",
       "    </tr>\n",
       "    <tr>\n",
       "      <th>norm</th>\n",
       "      <td>204.636131</td>\n",
       "      <td>2582.728050</td>\n",
       "      <td>-10379.984295</td>\n",
       "      <td>inf</td>\n",
       "    </tr>\n",
       "  </tbody>\n",
       "</table>\n",
       "</div>"
      ],
      "text/plain": [
       "      sumsquare_error          aic           bic  kl_div\n",
       "nct         16.846525   501.242297 -19400.561561     inf\n",
       "t           19.501661   489.176681 -18879.096018     inf\n",
       "norm       204.636131  2582.728050 -10379.984295     inf"
      ]
     },
     "execution_count": 42,
     "metadata": {},
     "output_type": "execute_result"
    }
   ],
   "source": [
    "a"
   ]
  },
  {
   "cell_type": "code",
   "execution_count": 46,
   "metadata": {},
   "outputs": [],
   "source": [
    "param = f.fitted_param['norm']"
   ]
  },
  {
   "cell_type": "code",
   "execution_count": 47,
   "metadata": {},
   "outputs": [
    {
     "data": {
      "text/plain": [
       "(0.0009772990799807762, 0.02650271877448366)"
      ]
     },
     "execution_count": 47,
     "metadata": {},
     "output_type": "execute_result"
    }
   ],
   "source": [
    "param"
   ]
  },
  {
   "cell_type": "code",
   "execution_count": 45,
   "metadata": {},
   "outputs": [],
   "source": [
    "from scipy.stats import norm,t, nct"
   ]
  },
  {
   "cell_type": "code",
   "execution_count": 76,
   "metadata": {},
   "outputs": [],
   "source": [
    "data = df_returns['AXISBANK.BO']"
   ]
  },
  {
   "cell_type": "code",
   "execution_count": 78,
   "metadata": {},
   "outputs": [
    {
     "data": {
      "text/plain": [
       "-0.2801447374579952"
      ]
     },
     "execution_count": 78,
     "metadata": {},
     "output_type": "execute_result"
    }
   ],
   "source": [
    "np.min(data)"
   ]
  },
  {
   "cell_type": "code",
   "execution_count": 79,
   "metadata": {},
   "outputs": [
    {
     "data": {
      "text/plain": [
       "0.22216183542921786"
      ]
     },
     "execution_count": 79,
     "metadata": {},
     "output_type": "execute_result"
    }
   ],
   "source": [
    "np.max(data)"
   ]
  },
  {
   "cell_type": "code",
   "execution_count": 80,
   "metadata": {},
   "outputs": [
    {
     "data": {
      "text/plain": [
       "3619"
      ]
     },
     "execution_count": 80,
     "metadata": {},
     "output_type": "execute_result"
    }
   ],
   "source": [
    "len(data)"
   ]
  },
  {
   "cell_type": "code",
   "execution_count": 93,
   "metadata": {},
   "outputs": [],
   "source": [
    "# distribution fitting\n",
    "def distribution_fitting(data, dist = 'norm'):\n",
    "\n",
    "    x_quantile = np.linspace(np.min(data), np.max(data), len(data))\n",
    "\n",
    "    if dist == 'norm':\n",
    "        param = f.fitted_param[dist]\n",
    "        a_tmp = norm.pdf(x_quantile, loc = param[0], scale = param[1])\n",
    "    \n",
    "    elif dist == 't':\n",
    "        param = f.fitted_param[dist]\n",
    "        a_tmp = t.pdf(x_quantile, param[0], param[1], param[2])\n",
    "\n",
    "    elif dist == 'nct':\n",
    "        param = f.fitted_param[dist]\n",
    "        a_tmp = nct.pdf(x_quantile, param[0], param[1], param[2], param[3])\n",
    "    \n",
    "\n",
    "    plt.hist(data, bins = 100,  density = True)\n",
    "    plt.plot(x_quantile, a_tmp, color = 'black')\n",
    "\n",
    "    return x_quantile, a_tmp\n",
    "    "
   ]
  },
  {
   "cell_type": "code",
   "execution_count": 96,
   "metadata": {},
   "outputs": [
    {
     "data": {
      "image/png": "[encoded data removed]",
      "text/plain": [
       "<Figure size 432x288 with 1 Axes>"
      ]
     },
     "metadata": {},
     "output_type": "display_data"
    }
   ],
   "source": [
    "\n",
    "tmp = distribution_fitting(df_returns['AXISBANK.BO'], 'nct')"
   ]
  },
  {
   "cell_type": "code",
   "execution_count": 83,
   "metadata": {},
   "outputs": [
    {
     "data": {
      "text/plain": [
       "array([5.56393725e-24, 5.88177708e-24, 6.21760287e-24, ...,\n",
       "       1.23311027e-14, 1.18040950e-14, 1.12993006e-14])"
      ]
     },
     "execution_count": 83,
     "metadata": {},
     "output_type": "execute_result"
    }
   ],
   "source": [
    "tmp"
   ]
  },
  {
   "cell_type": "code",
   "execution_count": null,
   "metadata": {},
   "outputs": [],
   "source": []
  }
 ],
 "metadata": {
  "interpreter": {
   "hash": "379d613cdeb7d076b29a73700569b09896bfa883f44ebe4bfc1470b9c463640e"
  },
  "kernelspec": {
   "display_name": "Python 3.9.6 64-bit ('venv': venv)",
   "name": "python3"
  },
  "language_info": {
   "codemirror_mode": {
    "name": "ipython",
    "version": 3
   },
   "file_extension": ".py",
   "mimetype": "text/x-python",
   "name": "python",
   "nbconvert_exporter": "python",
   "pygments_lexer": "ipython3",
   "version": "3.10.1"
  },
  "orig_nbformat": 4
 },
 "nbformat": 4,
 "nbformat_minor": 2
}
