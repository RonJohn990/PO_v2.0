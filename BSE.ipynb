{
 "cells": [
  {
   "cell_type": "code",
   "execution_count": 1,
   "metadata": {},
   "outputs": [],
   "source": [
    "import pandas as pd\n",
    "import yfinance as yf\n",
    "import sqlalchemy\n",
    "import datetime as dt\n",
    "from pandas.tseries.offsets import MonthEnd\n",
    "import matplotlib.pyplot as plt\n",
    "from matplotlib import style\n",
    "import numpy as np\n",
    "\n",
    "style.use('ggplot')"
   ]
  },
  {
   "cell_type": "code",
   "execution_count": 2,
   "metadata": {},
   "outputs": [
    {
     "data": {
      "text/plain": [
       "['ASIANPAINT.BO',\n",
       " 'AXISBANK.BO',\n",
       " 'BAJAJ-AUTO.BO',\n",
       " 'BAJFINANCE.BO',\n",
       " 'BAJAJFINSV.BO']"
      ]
     },
     "execution_count": 2,
     "metadata": {},
     "output_type": "execute_result"
    }
   ],
   "source": [
    "# url = 'https://en.wikipedia.org/wiki/List_of_BSE_SENSEX_companies''\n",
    "\n",
    "tickerSensex = pd.read_csv('./data/BSE_Company_List.csv')\n",
    "tickerSensex = tickerSensex.Symbol.to_list()\n",
    "\n",
    "# tickers = []\n",
    "# for ticker in tickerSensex:\n",
    "#     ticker = ticker.replace('.', '-')\n",
    "#     tickers.append(ticker)\n",
    "\n",
    "#tickerSensex = tickerSensex.replace('.', '-')\n",
    "tickerSensex[0:5]"
   ]
  },
  {
   "cell_type": "code",
   "execution_count": 3,
   "metadata": {},
   "outputs": [],
   "source": [
    "# data = []\n",
    "\n",
    "# for ticker in tickerSensex:\n",
    "#     data.append(yf.download(ticker).reset_index())"
   ]
  },
  {
   "cell_type": "code",
   "execution_count": 4,
   "metadata": {},
   "outputs": [],
   "source": [
    "# engine = sqlalchemy.create_engine('sqlite:///india.db')"
   ]
  },
  {
   "cell_type": "code",
   "execution_count": 5,
   "metadata": {},
   "outputs": [],
   "source": [
    "# for frame, symbol in zip(data,tickerSensex):\n",
    "#     frame.to_sql(symbol, engine, index = False)"
   ]
  },
  {
   "cell_type": "code",
   "execution_count": 6,
   "metadata": {},
   "outputs": [],
   "source": [
    "# pd.read_sql(f'SELECT Date, \"Adj Close\" AS \"{tickerSensex[0]}\" FROM \"ASIANPAINT.BO\" LIMIT(10)', engine)"
   ]
  },
  {
   "cell_type": "markdown",
   "metadata": {},
   "source": [
    "# Start Here"
   ]
  },
  {
   "cell_type": "code",
   "execution_count": 7,
   "metadata": {},
   "outputs": [],
   "source": [
    "df = pd.DataFrame()\n",
    "engine = sqlalchemy.create_engine('sqlite:///india.db')\n",
    "\n",
    "for ticker in tickerSensex:\n",
    "    df = df.append(pd.read_sql(\n",
    "        f'SELECT Date, \"Adj CLose\" AS \"{ticker}\" FROM \"{ticker}\" WHERE DATE > \"2007-01-10\"'\n",
    "        ,engine))"
   ]
  },
  {
   "cell_type": "code",
   "execution_count": 8,
   "metadata": {},
   "outputs": [
    {
     "data": {
      "text/html": [
       "<div>\n",
       "<style scoped>\n",
       "    .dataframe tbody tr th:only-of-type {\n",
       "        vertical-align: middle;\n",
       "    }\n",
       "\n",
       "    .dataframe tbody tr th {\n",
       "        vertical-align: top;\n",
       "    }\n",
       "\n",
       "    .dataframe thead th {\n",
       "        text-align: right;\n",
       "    }\n",
       "</style>\n",
       "<table border=\"1\" class=\"dataframe\">\n",
       "  <thead>\n",
       "    <tr style=\"text-align: right;\">\n",
       "      <th></th>\n",
       "      <th>ASIANPAINT.BO</th>\n",
       "      <th>AXISBANK.BO</th>\n",
       "      <th>BAJAJ-AUTO.BO</th>\n",
       "      <th>BAJFINANCE.BO</th>\n",
       "      <th>BAJAJFINSV.BO</th>\n",
       "      <th>BHARTIARTL.BO</th>\n",
       "      <th>DRREDDY.BO</th>\n",
       "      <th>HCLTECH.BO</th>\n",
       "      <th>HDFC.BO</th>\n",
       "      <th>HDFCBANK.BO</th>\n",
       "      <th>...</th>\n",
       "      <th>NTPC.BO</th>\n",
       "      <th>ONGC.BO</th>\n",
       "      <th>POWERGRID.BO</th>\n",
       "      <th>RELIANCE.BO</th>\n",
       "      <th>SBIN.BO</th>\n",
       "      <th>SUNPHARMA.BO</th>\n",
       "      <th>TCS.BO</th>\n",
       "      <th>TECHM.BO</th>\n",
       "      <th>TITAN.BO</th>\n",
       "      <th>ULTRACEMCO.BO</th>\n",
       "    </tr>\n",
       "    <tr>\n",
       "      <th>Date</th>\n",
       "      <th></th>\n",
       "      <th></th>\n",
       "      <th></th>\n",
       "      <th></th>\n",
       "      <th></th>\n",
       "      <th></th>\n",
       "      <th></th>\n",
       "      <th></th>\n",
       "      <th></th>\n",
       "      <th></th>\n",
       "      <th></th>\n",
       "      <th></th>\n",
       "      <th></th>\n",
       "      <th></th>\n",
       "      <th></th>\n",
       "      <th></th>\n",
       "      <th></th>\n",
       "      <th></th>\n",
       "      <th></th>\n",
       "      <th></th>\n",
       "      <th></th>\n",
       "    </tr>\n",
       "  </thead>\n",
       "  <tbody>\n",
       "    <tr>\n",
       "      <th>2007-01-10</th>\n",
       "      <td>62.436817</td>\n",
       "      <td>81.921684</td>\n",
       "      <td>0.0</td>\n",
       "      <td>32.834297</td>\n",
       "      <td>2604.056152</td>\n",
       "      <td>266.222595</td>\n",
       "      <td>696.785522</td>\n",
       "      <td>54.860710</td>\n",
       "      <td>249.344391</td>\n",
       "      <td>90.594536</td>\n",
       "      <td>...</td>\n",
       "      <td>67.110977</td>\n",
       "      <td>87.987556</td>\n",
       "      <td>0.0</td>\n",
       "      <td>284.154999</td>\n",
       "      <td>91.023743</td>\n",
       "      <td>79.072044</td>\n",
       "      <td>234.631042</td>\n",
       "      <td>342.602234</td>\n",
       "      <td>38.810364</td>\n",
       "      <td>970.902161</td>\n",
       "    </tr>\n",
       "    <tr>\n",
       "      <th>2007-01-11</th>\n",
       "      <td>63.016232</td>\n",
       "      <td>85.265244</td>\n",
       "      <td>0.0</td>\n",
       "      <td>32.825546</td>\n",
       "      <td>2659.520508</td>\n",
       "      <td>276.622253</td>\n",
       "      <td>711.390808</td>\n",
       "      <td>56.545277</td>\n",
       "      <td>248.658463</td>\n",
       "      <td>90.590019</td>\n",
       "      <td>...</td>\n",
       "      <td>69.383362</td>\n",
       "      <td>90.424095</td>\n",
       "      <td>0.0</td>\n",
       "      <td>289.031067</td>\n",
       "      <td>92.072571</td>\n",
       "      <td>81.715851</td>\n",
       "      <td>242.825378</td>\n",
       "      <td>361.730499</td>\n",
       "      <td>40.264267</td>\n",
       "      <td>995.855774</td>\n",
       "    </tr>\n",
       "    <tr>\n",
       "      <th>2007-01-12</th>\n",
       "      <td>62.285435</td>\n",
       "      <td>88.546722</td>\n",
       "      <td>0.0</td>\n",
       "      <td>32.549824</td>\n",
       "      <td>2668.338867</td>\n",
       "      <td>288.628510</td>\n",
       "      <td>728.198120</td>\n",
       "      <td>58.951141</td>\n",
       "      <td>259.094788</td>\n",
       "      <td>96.382469</td>\n",
       "      <td>...</td>\n",
       "      <td>69.938820</td>\n",
       "      <td>91.417488</td>\n",
       "      <td>0.0</td>\n",
       "      <td>299.062317</td>\n",
       "      <td>97.953201</td>\n",
       "      <td>82.902527</td>\n",
       "      <td>251.970276</td>\n",
       "      <td>374.665344</td>\n",
       "      <td>40.818893</td>\n",
       "      <td>1001.556763</td>\n",
       "    </tr>\n",
       "    <tr>\n",
       "      <th>2007-01-15</th>\n",
       "      <td>67.733917</td>\n",
       "      <td>94.710587</td>\n",
       "      <td>0.0</td>\n",
       "      <td>32.904324</td>\n",
       "      <td>2666.459229</td>\n",
       "      <td>287.238922</td>\n",
       "      <td>723.839050</td>\n",
       "      <td>58.616112</td>\n",
       "      <td>260.687225</td>\n",
       "      <td>98.965973</td>\n",
       "      <td>...</td>\n",
       "      <td>69.964088</td>\n",
       "      <td>90.572350</td>\n",
       "      <td>0.0</td>\n",
       "      <td>304.541016</td>\n",
       "      <td>97.837112</td>\n",
       "      <td>84.424240</td>\n",
       "      <td>252.464645</td>\n",
       "      <td>379.213898</td>\n",
       "      <td>41.053986</td>\n",
       "      <td>1043.660522</td>\n",
       "    </tr>\n",
       "    <tr>\n",
       "      <th>2007-01-16</th>\n",
       "      <td>67.889595</td>\n",
       "      <td>97.841293</td>\n",
       "      <td>0.0</td>\n",
       "      <td>34.142944</td>\n",
       "      <td>2674.024658</td>\n",
       "      <td>291.125244</td>\n",
       "      <td>727.209473</td>\n",
       "      <td>59.463070</td>\n",
       "      <td>254.766754</td>\n",
       "      <td>99.342171</td>\n",
       "      <td>...</td>\n",
       "      <td>69.661110</td>\n",
       "      <td>90.923241</td>\n",
       "      <td>0.0</td>\n",
       "      <td>300.602173</td>\n",
       "      <td>96.816315</td>\n",
       "      <td>83.758240</td>\n",
       "      <td>252.455231</td>\n",
       "      <td>367.152191</td>\n",
       "      <td>41.289078</td>\n",
       "      <td>1068.286865</td>\n",
       "    </tr>\n",
       "  </tbody>\n",
       "</table>\n",
       "<p>5 rows × 30 columns</p>\n",
       "</div>"
      ],
      "text/plain": [
       "            ASIANPAINT.BO  AXISBANK.BO  BAJAJ-AUTO.BO  BAJFINANCE.BO  \\\n",
       "Date                                                                   \n",
       "2007-01-10      62.436817    81.921684            0.0      32.834297   \n",
       "2007-01-11      63.016232    85.265244            0.0      32.825546   \n",
       "2007-01-12      62.285435    88.546722            0.0      32.549824   \n",
       "2007-01-15      67.733917    94.710587            0.0      32.904324   \n",
       "2007-01-16      67.889595    97.841293            0.0      34.142944   \n",
       "\n",
       "            BAJAJFINSV.BO  BHARTIARTL.BO  DRREDDY.BO  HCLTECH.BO     HDFC.BO  \\\n",
       "Date                                                                           \n",
       "2007-01-10    2604.056152     266.222595  696.785522   54.860710  249.344391   \n",
       "2007-01-11    2659.520508     276.622253  711.390808   56.545277  248.658463   \n",
       "2007-01-12    2668.338867     288.628510  728.198120   58.951141  259.094788   \n",
       "2007-01-15    2666.459229     287.238922  723.839050   58.616112  260.687225   \n",
       "2007-01-16    2674.024658     291.125244  727.209473   59.463070  254.766754   \n",
       "\n",
       "            HDFCBANK.BO  ...    NTPC.BO    ONGC.BO  POWERGRID.BO  RELIANCE.BO  \\\n",
       "Date                     ...                                                    \n",
       "2007-01-10    90.594536  ...  67.110977  87.987556           0.0   284.154999   \n",
       "2007-01-11    90.590019  ...  69.383362  90.424095           0.0   289.031067   \n",
       "2007-01-12    96.382469  ...  69.938820  91.417488           0.0   299.062317   \n",
       "2007-01-15    98.965973  ...  69.964088  90.572350           0.0   304.541016   \n",
       "2007-01-16    99.342171  ...  69.661110  90.923241           0.0   300.602173   \n",
       "\n",
       "              SBIN.BO  SUNPHARMA.BO      TCS.BO    TECHM.BO   TITAN.BO  \\\n",
       "Date                                                                     \n",
       "2007-01-10  91.023743     79.072044  234.631042  342.602234  38.810364   \n",
       "2007-01-11  92.072571     81.715851  242.825378  361.730499  40.264267   \n",
       "2007-01-12  97.953201     82.902527  251.970276  374.665344  40.818893   \n",
       "2007-01-15  97.837112     84.424240  252.464645  379.213898  41.053986   \n",
       "2007-01-16  96.816315     83.758240  252.455231  367.152191  41.289078   \n",
       "\n",
       "            ULTRACEMCO.BO  \n",
       "Date                       \n",
       "2007-01-10     970.902161  \n",
       "2007-01-11     995.855774  \n",
       "2007-01-12    1001.556763  \n",
       "2007-01-15    1043.660522  \n",
       "2007-01-16    1068.286865  \n",
       "\n",
       "[5 rows x 30 columns]"
      ]
     },
     "execution_count": 8,
     "metadata": {},
     "output_type": "execute_result"
    }
   ],
   "source": [
    "df = df.groupby('Date').sum() # Resets Index to the date\n",
    "df.index = pd.to_datetime(df.index) # Sets Index Dates as Datetime objects\n",
    "df.head()"
   ]
  },
  {
   "cell_type": "markdown",
   "metadata": {},
   "source": [
    "# Visualizing Selected Tickers"
   ]
  },
  {
   "cell_type": "markdown",
   "metadata": {},
   "source": [
    "## Line Plot of Adj Close Prices"
   ]
  },
  {
   "cell_type": "code",
   "execution_count": 9,
   "metadata": {},
   "outputs": [
    {
     "data": {
      "text/plain": [
       "<matplotlib.legend.Legend at 0x7f81844dc6a0>"
      ]
     },
     "execution_count": 9,
     "metadata": {},
     "output_type": "execute_result"
    },
    {
     "data": {
      "image/png": "[encoded data removed]",
      "text/plain": [
       "<Figure size 720x360 with 1 Axes>"
      ]
     },
     "metadata": {},
     "output_type": "display_data"
    }
   ],
   "source": [
    "tickers_choice = ['AXISBANK.BO', 'BAJFINANCE.BO', 'BHARTIARTL.BO', 'HDFC.BO', 'NTPC.BO']\n",
    "df_subset_vis = df[tickers_choice]\n",
    "\n",
    "plt.figure(figsize = (10, 5))\n",
    "plt.plot(df_subset_vis)\n",
    "plt.legend(tickers_choice)\n"
   ]
  },
  {
   "cell_type": "markdown",
   "metadata": {},
   "source": [
    "## Line Chart & Histogram of Percentage Change"
   ]
  },
  {
   "cell_type": "code",
   "execution_count": 10,
   "metadata": {},
   "outputs": [],
   "source": [
    "df_returns = df_subset_vis.pct_change()\n",
    "df_returns = df_returns.dropna()"
   ]
  },
  {
   "cell_type": "code",
   "execution_count": 11,
   "metadata": {},
   "outputs": [
    {
     "data": {
      "text/plain": [
       "AXISBANK.BO      0\n",
       "BAJFINANCE.BO    1\n",
       "BHARTIARTL.BO    0\n",
       "HDFC.BO          0\n",
       "NTPC.BO          0\n",
       "dtype: int64"
      ]
     },
     "execution_count": 11,
     "metadata": {},
     "output_type": "execute_result"
    }
   ],
   "source": [
    "np.sum(np.isinf(df_returns) == True)"
   ]
  },
  {
   "cell_type": "code",
   "execution_count": 12,
   "metadata": {},
   "outputs": [],
   "source": [
    "# Pulling outlier with Inf pct change\n",
    "outlier_index = df_returns[np.isinf(df_returns['BAJFINANCE.BO']) == True].index\n",
    "df_returns.loc[outlier_index, 'BAJFINANCE.BO'] = -1"
   ]
  },
  {
   "cell_type": "code",
   "execution_count": 13,
   "metadata": {},
   "outputs": [
    {
     "data": {
      "text/plain": [
       "AXISBANK.BO     -0.280145\n",
       "BAJFINANCE.BO   -1.000000\n",
       "BHARTIARTL.BO   -0.131822\n",
       "HDFC.BO         -0.128656\n",
       "NTPC.BO         -0.141515\n",
       "dtype: float64"
      ]
     },
     "execution_count": 13,
     "metadata": {},
     "output_type": "execute_result"
    }
   ],
   "source": [
    "# Replacing Inf with max negative pct_change so as to no lose information\n",
    "np.min(df_returns)"
   ]
  },
  {
   "cell_type": "code",
   "execution_count": 14,
   "metadata": {},
   "outputs": [
    {
     "data": {
      "text/plain": [
       "<matplotlib.legend.Legend at 0x7f81843f61a0>"
      ]
     },
     "execution_count": 14,
     "metadata": {},
     "output_type": "execute_result"
    },
    {
     "data": {
      "image/png": "[encoded data removed]",
      "text/plain": [
       "<Figure size 720x360 with 1 Axes>"
      ]
     },
     "metadata": {},
     "output_type": "display_data"
    }
   ],
   "source": [
    "plt.figure(figsize = (10, 5))\n",
    "plt.plot(df_returns, alpha = 0.6)\n",
    "plt.legend(tickers_choice)"
   ]
  },
  {
   "cell_type": "code",
   "execution_count": 15,
   "metadata": {},
   "outputs": [
    {
     "data": {
      "text/plain": [
       "(-0.2, 0.2)"
      ]
     },
     "execution_count": 15,
     "metadata": {},
     "output_type": "execute_result"
    },
    {
     "data": {
      "image/png": "[encoded data removed]",
      "text/plain": [
       "<Figure size 720x360 with 1 Axes>"
      ]
     },
     "metadata": {},
     "output_type": "display_data"
    }
   ],
   "source": [
    "plt.figure(figsize = (10, 5))\n",
    "plt.hist(df_returns, bins = 500, stacked = True, alpha = 0.6)\n",
    "plt.legend(tickers_choice)\n",
    "plt.xlim(-0.2, 0.2)"
   ]
  },
  {
   "cell_type": "markdown",
   "metadata": {},
   "source": [
    "# Portfolio Optimization"
   ]
  },
  {
   "cell_type": "code",
   "execution_count": 16,
   "metadata": {},
   "outputs": [],
   "source": [
    "def efficient_frontier(no_portfolios = 100, RF = 0 ):\n",
    "    portfolio_returns = []\n",
    "    portfolio_risk = []\n",
    "    sharpe_ratio = []\n",
    "    portfolio_weights = []\n",
    "    #RF = 0.02\n",
    "    df_returns_mean = df_returns.mean() * 252\n",
    "    \n",
    "    for portfolio in range(no_portfolios):\n",
    "        # Generate Random Weights\n",
    "        weights = np.random.random(len(tickers_choice))\n",
    "        weights = np.round(weights / np.sum(weights), 3)\n",
    "        portfolio_weights.append(weights)\n",
    "\n",
    "        # Annualized Returns\n",
    "        annualized_returns = np.sum(df_returns_mean * weights)\n",
    "        portfolio_returns.append(annualized_returns)\n",
    "\n",
    "        # Covariance Matrix & Portfolio Risk Calc\n",
    "        matrix_covariance = df_returns.cov() * 252\n",
    "        portfolio_variance = np.dot(weights.T, np.dot(matrix_covariance, weights))\n",
    "        portfolio_std = np.sqrt(portfolio_variance)\n",
    "        portfolio_risk.append(portfolio_std)\n",
    "\n",
    "        # Sharpe Ratio\n",
    "        sharpe = (annualized_returns - RF) / portfolio_std\n",
    "        sharpe_ratio.append(sharpe)\n",
    "    \n",
    "    df_metrics = pd.DataFrame([np.array(portfolio_returns),\n",
    "                            np.array(portfolio_risk),\n",
    "                            np.array(sharpe_ratio),\n",
    "                            np.array(portfolio_weights)], index = ['Returns', 'Risk', 'Sharpe_ratio', 'Weights'])\n",
    "\n",
    "    df_metrics = df_metrics.T\n",
    "    \n",
    "    min_risk = df_metrics.iloc[df_metrics['Risk'].astype(float).idxmin()]\n",
    "\n",
    "    max_return = df_metrics.iloc[df_metrics['Returns'].astype(float).idxmax()]\n",
    "\n",
    "    max_sharpe = df_metrics.iloc[df_metrics['Sharpe_ratio'].astype(float).idxmax()]\n",
    "\n",
    "    plt.figure(figsize = (10 ,5))\n",
    "    plt.scatter(df_metrics['Risk'], df_metrics['Returns'], c = df_metrics['Sharpe_ratio'], cmap = 'magma')\n",
    "\n",
    "    return min_risk, max_return, max_sharpe\n"
   ]
  },
  {
   "cell_type": "code",
   "execution_count": 17,
   "metadata": {},
   "outputs": [
    {
     "data": {
      "image/png": "[encoded data removed]",
      "text/plain": [
       "<Figure size 720x360 with 1 Axes>"
      ]
     },
     "metadata": {},
     "output_type": "display_data"
    }
   ],
   "source": [
    "tmp = efficient_frontier(250, 0)"
   ]
  },
  {
   "cell_type": "code",
   "execution_count": 18,
   "metadata": {},
   "outputs": [],
   "source": [
    "min_risk = pd.DataFrame({'Min Risk' : tmp[0]})\n",
    "max_return = pd.DataFrame({'Max Return' : tmp[1]})\n",
    "max_sharpe = pd.DataFrame({'Max Sharpe Ratio' : tmp[2]})\n",
    "\n",
    "final_portfolios_df = pd.concat([min_risk, max_return, max_sharpe], axis = 1)"
   ]
  },
  {
   "cell_type": "code",
   "execution_count": 19,
   "metadata": {},
   "outputs": [
    {
     "data": {
      "text/html": [
       "<div>\n",
       "<style scoped>\n",
       "    .dataframe tbody tr th:only-of-type {\n",
       "        vertical-align: middle;\n",
       "    }\n",
       "\n",
       "    .dataframe tbody tr th {\n",
       "        vertical-align: top;\n",
       "    }\n",
       "\n",
       "    .dataframe thead th {\n",
       "        text-align: right;\n",
       "    }\n",
       "</style>\n",
       "<table border=\"1\" class=\"dataframe\">\n",
       "  <thead>\n",
       "    <tr style=\"text-align: right;\">\n",
       "      <th></th>\n",
       "      <th>Weights</th>\n",
       "    </tr>\n",
       "  </thead>\n",
       "  <tbody>\n",
       "    <tr>\n",
       "      <th>Min Risk</th>\n",
       "      <td>[0.063, 0.077, 0.282, 0.222, 0.356]</td>\n",
       "    </tr>\n",
       "    <tr>\n",
       "      <th>Max Return</th>\n",
       "      <td>[0.342, 0.488, 0.021, 0.129, 0.02]</td>\n",
       "    </tr>\n",
       "    <tr>\n",
       "      <th>Max Sharpe Ratio</th>\n",
       "      <td>[0.255, 0.252, 0.095, 0.378, 0.02]</td>\n",
       "    </tr>\n",
       "  </tbody>\n",
       "</table>\n",
       "</div>"
      ],
      "text/plain": [
       "                                              Weights\n",
       "Min Risk          [0.063, 0.077, 0.282, 0.222, 0.356]\n",
       "Max Return         [0.342, 0.488, 0.021, 0.129, 0.02]\n",
       "Max Sharpe Ratio   [0.255, 0.252, 0.095, 0.378, 0.02]"
      ]
     },
     "execution_count": 19,
     "metadata": {},
     "output_type": "execute_result"
    }
   ],
   "source": [
    "weights_df = pd.DataFrame(final_portfolios_df.loc['Weights'])\n",
    "weights_df"
   ]
  },
  {
   "cell_type": "code",
   "execution_count": 20,
   "metadata": {},
   "outputs": [
    {
     "data": {
      "text/html": [
       "<div>\n",
       "<style scoped>\n",
       "    .dataframe tbody tr th:only-of-type {\n",
       "        vertical-align: middle;\n",
       "    }\n",
       "\n",
       "    .dataframe tbody tr th {\n",
       "        vertical-align: top;\n",
       "    }\n",
       "\n",
       "    .dataframe thead th {\n",
       "        text-align: right;\n",
       "    }\n",
       "</style>\n",
       "<table border=\"1\" class=\"dataframe\">\n",
       "  <thead>\n",
       "    <tr style=\"text-align: right;\">\n",
       "      <th></th>\n",
       "      <th>Min Risk</th>\n",
       "      <th>Max Return</th>\n",
       "      <th>Max Sharpe Ratio</th>\n",
       "    </tr>\n",
       "  </thead>\n",
       "  <tbody>\n",
       "    <tr>\n",
       "      <th>Returns</th>\n",
       "      <td>0.16179</td>\n",
       "      <td>0.283243</td>\n",
       "      <td>0.248807</td>\n",
       "    </tr>\n",
       "    <tr>\n",
       "      <th>Risk</th>\n",
       "      <td>0.243609</td>\n",
       "      <td>0.374437</td>\n",
       "      <td>0.303537</td>\n",
       "    </tr>\n",
       "    <tr>\n",
       "      <th>Sharpe_ratio</th>\n",
       "      <td>0.664136</td>\n",
       "      <td>0.756451</td>\n",
       "      <td>0.819692</td>\n",
       "    </tr>\n",
       "  </tbody>\n",
       "</table>\n",
       "</div>"
      ],
      "text/plain": [
       "              Min Risk Max Return Max Sharpe Ratio\n",
       "Returns        0.16179   0.283243         0.248807\n",
       "Risk          0.243609   0.374437         0.303537\n",
       "Sharpe_ratio  0.664136   0.756451         0.819692"
      ]
     },
     "execution_count": 20,
     "metadata": {},
     "output_type": "execute_result"
    }
   ],
   "source": [
    "final_portfolios_df.drop('Weights', axis = 0)"
   ]
  },
  {
   "cell_type": "code",
   "execution_count": 21,
   "metadata": {},
   "outputs": [],
   "source": [
    "wt_index = weights_df.index\n",
    "wt_col = tickers_choice"
   ]
  },
  {
   "cell_type": "code",
   "execution_count": 22,
   "metadata": {},
   "outputs": [
    {
     "data": {
      "text/plain": [
       "[['[0.063', '0.077', '0.282', '0.222', '0.356]'],\n",
       " ['[0.342', '0.488', '0.021', '0.129', '0.02', ']'],\n",
       " ['[0.255', '0.252', '0.095', '0.378', '0.02', ']']]"
      ]
     },
     "execution_count": 22,
     "metadata": {},
     "output_type": "execute_result"
    }
   ],
   "source": [
    "tmp = []\n",
    "for weight in weights_df['Weights']:\n",
    "    tmp.append(str(weight).split())\n",
    "\n",
    "tmp"
   ]
  },
  {
   "cell_type": "code",
   "execution_count": 23,
   "metadata": {},
   "outputs": [
    {
     "data": {
      "text/html": [
       "<div>\n",
       "<style scoped>\n",
       "    .dataframe tbody tr th:only-of-type {\n",
       "        vertical-align: middle;\n",
       "    }\n",
       "\n",
       "    .dataframe tbody tr th {\n",
       "        vertical-align: top;\n",
       "    }\n",
       "\n",
       "    .dataframe thead th {\n",
       "        text-align: right;\n",
       "    }\n",
       "</style>\n",
       "<table border=\"1\" class=\"dataframe\">\n",
       "  <thead>\n",
       "    <tr style=\"text-align: right;\">\n",
       "      <th></th>\n",
       "      <th>AXISBANK.BO</th>\n",
       "      <th>BAJFINANCE.BO</th>\n",
       "      <th>BHARTIARTL.BO</th>\n",
       "      <th>HDFC.BO</th>\n",
       "      <th>NTPC.BO</th>\n",
       "    </tr>\n",
       "  </thead>\n",
       "  <tbody>\n",
       "    <tr>\n",
       "      <th>Min Risk</th>\n",
       "      <td>0.063</td>\n",
       "      <td>0.077</td>\n",
       "      <td>0.282</td>\n",
       "      <td>0.222</td>\n",
       "      <td>0.356</td>\n",
       "    </tr>\n",
       "    <tr>\n",
       "      <th>Max Return</th>\n",
       "      <td>0.342</td>\n",
       "      <td>0.488</td>\n",
       "      <td>0.021</td>\n",
       "      <td>0.129</td>\n",
       "      <td>0.020</td>\n",
       "    </tr>\n",
       "    <tr>\n",
       "      <th>Max Sharpe Ratio</th>\n",
       "      <td>0.255</td>\n",
       "      <td>0.252</td>\n",
       "      <td>0.095</td>\n",
       "      <td>0.378</td>\n",
       "      <td>0.020</td>\n",
       "    </tr>\n",
       "  </tbody>\n",
       "</table>\n",
       "</div>"
      ],
      "text/plain": [
       "                  AXISBANK.BO  BAJFINANCE.BO  BHARTIARTL.BO  HDFC.BO  NTPC.BO\n",
       "Min Risk                0.063          0.077          0.282    0.222    0.356\n",
       "Max Return              0.342          0.488          0.021    0.129    0.020\n",
       "Max Sharpe Ratio        0.255          0.252          0.095    0.378    0.020"
      ]
     },
     "execution_count": 23,
     "metadata": {},
     "output_type": "execute_result"
    }
   ],
   "source": [
    "tmp_min = (weights_df.iloc[0][0])\n",
    "tmp_max = (weights_df.iloc[1][0])\n",
    "tmp_sharpe = (weights_df.iloc[2][0])\n",
    "\n",
    "tmp_port = pd.DataFrame([tmp_min, tmp_max, tmp_sharpe], columns = wt_col, index = wt_index)\n",
    "tmp_port"
   ]
  },
  {
   "cell_type": "code",
   "execution_count": 24,
   "metadata": {},
   "outputs": [
    {
     "data": {
      "text/plain": [
       "0.063"
      ]
     },
     "execution_count": 24,
     "metadata": {},
     "output_type": "execute_result"
    }
   ],
   "source": [
    "tmp_min[0]"
   ]
  },
  {
   "cell_type": "markdown",
   "metadata": {},
   "source": [
    "# Choice of Currenct using 'forex-python' package"
   ]
  },
  {
   "cell_type": "code",
   "execution_count": 25,
   "metadata": {},
   "outputs": [],
   "source": [
    "from forex_python.converter import CurrencyRates\n",
    "c = CurrencyRates()"
   ]
  },
  {
   "cell_type": "code",
   "execution_count": 26,
   "metadata": {},
   "outputs": [],
   "source": [
    "usd_amt = 100.45\n",
    "gbp_amt = 100.45\n",
    "inr_amt = 100.45"
   ]
  },
  {
   "cell_type": "code",
   "execution_count": 27,
   "metadata": {},
   "outputs": [
    {
     "data": {
      "text/plain": [
       "1.3514064397818477"
      ]
     },
     "execution_count": 27,
     "metadata": {},
     "output_type": "execute_result"
    }
   ],
   "source": [
    "c.convert('INR', 'USD', inr_amt)"
   ]
  },
  {
   "cell_type": "code",
   "execution_count": 28,
   "metadata": {},
   "outputs": [
    {
     "data": {
      "text/html": [
       "<div>\n",
       "<style scoped>\n",
       "    .dataframe tbody tr th:only-of-type {\n",
       "        vertical-align: middle;\n",
       "    }\n",
       "\n",
       "    .dataframe tbody tr th {\n",
       "        vertical-align: top;\n",
       "    }\n",
       "\n",
       "    .dataframe thead th {\n",
       "        text-align: right;\n",
       "    }\n",
       "</style>\n",
       "<table border=\"1\" class=\"dataframe\">\n",
       "  <thead>\n",
       "    <tr style=\"text-align: right;\">\n",
       "      <th></th>\n",
       "      <th>AXISBANK.BO</th>\n",
       "      <th>BAJFINANCE.BO</th>\n",
       "      <th>BHARTIARTL.BO</th>\n",
       "      <th>HDFC.BO</th>\n",
       "      <th>NTPC.BO</th>\n",
       "    </tr>\n",
       "    <tr>\n",
       "      <th>Date</th>\n",
       "      <th></th>\n",
       "      <th></th>\n",
       "      <th></th>\n",
       "      <th></th>\n",
       "      <th></th>\n",
       "    </tr>\n",
       "  </thead>\n",
       "  <tbody>\n",
       "    <tr>\n",
       "      <th>2007-01-10</th>\n",
       "      <td>1.102135</td>\n",
       "      <td>0.441737</td>\n",
       "      <td>3.581632</td>\n",
       "      <td>3.354561</td>\n",
       "      <td>0.902879</td>\n",
       "    </tr>\n",
       "    <tr>\n",
       "      <th>2007-01-11</th>\n",
       "      <td>1.147118</td>\n",
       "      <td>0.441619</td>\n",
       "      <td>3.721544</td>\n",
       "      <td>3.345332</td>\n",
       "      <td>0.933451</td>\n",
       "    </tr>\n",
       "    <tr>\n",
       "      <th>2007-01-12</th>\n",
       "      <td>1.191265</td>\n",
       "      <td>0.437910</td>\n",
       "      <td>3.883070</td>\n",
       "      <td>3.485738</td>\n",
       "      <td>0.940924</td>\n",
       "    </tr>\n",
       "    <tr>\n",
       "      <th>2007-01-15</th>\n",
       "      <td>1.274191</td>\n",
       "      <td>0.442679</td>\n",
       "      <td>3.864376</td>\n",
       "      <td>3.507162</td>\n",
       "      <td>0.941264</td>\n",
       "    </tr>\n",
       "    <tr>\n",
       "      <th>2007-01-16</th>\n",
       "      <td>1.316310</td>\n",
       "      <td>0.459343</td>\n",
       "      <td>3.916660</td>\n",
       "      <td>3.427511</td>\n",
       "      <td>0.937187</td>\n",
       "    </tr>\n",
       "    <tr>\n",
       "      <th>...</th>\n",
       "      <td>...</td>\n",
       "      <td>...</td>\n",
       "      <td>...</td>\n",
       "      <td>...</td>\n",
       "      <td>...</td>\n",
       "    </tr>\n",
       "    <tr>\n",
       "      <th>2021-09-22</th>\n",
       "      <td>10.606758</td>\n",
       "      <td>104.813039</td>\n",
       "      <td>9.597284</td>\n",
       "      <td>36.769153</td>\n",
       "      <td>1.673618</td>\n",
       "    </tr>\n",
       "    <tr>\n",
       "      <th>2021-09-23</th>\n",
       "      <td>10.928970</td>\n",
       "      <td>106.248532</td>\n",
       "      <td>9.590021</td>\n",
       "      <td>37.911356</td>\n",
       "      <td>1.696489</td>\n",
       "    </tr>\n",
       "    <tr>\n",
       "      <th>2021-09-24</th>\n",
       "      <td>10.738603</td>\n",
       "      <td>104.862143</td>\n",
       "      <td>9.761696</td>\n",
       "      <td>38.187153</td>\n",
       "      <td>1.672946</td>\n",
       "    </tr>\n",
       "    <tr>\n",
       "      <th>2021-09-27</th>\n",
       "      <td>10.716404</td>\n",
       "      <td>104.879636</td>\n",
       "      <td>9.724879</td>\n",
       "      <td>38.222807</td>\n",
       "      <td>1.707925</td>\n",
       "    </tr>\n",
       "    <tr>\n",
       "      <th>2021-09-28</th>\n",
       "      <td>10.614158</td>\n",
       "      <td>101.504142</td>\n",
       "      <td>9.367016</td>\n",
       "      <td>37.726370</td>\n",
       "      <td>1.775192</td>\n",
       "    </tr>\n",
       "  </tbody>\n",
       "</table>\n",
       "<p>3620 rows × 5 columns</p>\n",
       "</div>"
      ],
      "text/plain": [
       "            AXISBANK.BO  BAJFINANCE.BO  BHARTIARTL.BO    HDFC.BO   NTPC.BO\n",
       "Date                                                                      \n",
       "2007-01-10     1.102135       0.441737       3.581632   3.354561  0.902879\n",
       "2007-01-11     1.147118       0.441619       3.721544   3.345332  0.933451\n",
       "2007-01-12     1.191265       0.437910       3.883070   3.485738  0.940924\n",
       "2007-01-15     1.274191       0.442679       3.864376   3.507162  0.941264\n",
       "2007-01-16     1.316310       0.459343       3.916660   3.427511  0.937187\n",
       "...                 ...            ...            ...        ...       ...\n",
       "2021-09-22    10.606758     104.813039       9.597284  36.769153  1.673618\n",
       "2021-09-23    10.928970     106.248532       9.590021  37.911356  1.696489\n",
       "2021-09-24    10.738603     104.862143       9.761696  38.187153  1.672946\n",
       "2021-09-27    10.716404     104.879636       9.724879  38.222807  1.707925\n",
       "2021-09-28    10.614158     101.504142       9.367016  37.726370  1.775192\n",
       "\n",
       "[3620 rows x 5 columns]"
      ]
     },
     "execution_count": 28,
     "metadata": {},
     "output_type": "execute_result"
    }
   ],
   "source": [
    "c.convert('INR', 'USD', df_subset_vis)"
   ]
  },
  {
   "cell_type": "code",
   "execution_count": 29,
   "metadata": {},
   "outputs": [
    {
     "data": {
      "text/plain": [
       "DatetimeIndex(['2007-01-10', '2007-01-11', '2007-01-12', '2007-01-15',\n",
       "               '2007-01-16', '2007-01-17', '2007-01-18', '2007-01-19',\n",
       "               '2007-01-22', '2007-01-23',\n",
       "               ...\n",
       "               '2021-09-15', '2021-09-16', '2021-09-17', '2021-09-20',\n",
       "               '2021-09-21', '2021-09-22', '2021-09-23', '2021-09-24',\n",
       "               '2021-09-27', '2021-09-28'],\n",
       "              dtype='datetime64[ns]', name='Date', length=3620, freq=None)"
      ]
     },
     "execution_count": 29,
     "metadata": {},
     "output_type": "execute_result"
    }
   ],
   "source": [
    "df_subset_vis.index"
   ]
  },
  {
   "cell_type": "markdown",
   "metadata": {},
   "source": [
    "# Fitting Distribution to Data"
   ]
  },
  {
   "cell_type": "code",
   "execution_count": 30,
   "metadata": {},
   "outputs": [],
   "source": [
    "from fitter import Fitter"
   ]
  },
  {
   "cell_type": "code",
   "execution_count": 31,
   "metadata": {},
   "outputs": [],
   "source": [
    "f = Fitter(data = df_returns['AXISBANK.BO'], distributions = ['norm', 't', 'nct', 'beta'])"
   ]
  },
  {
   "cell_type": "code",
   "execution_count": 32,
   "metadata": {},
   "outputs": [],
   "source": [
    "a = f.fit()"
   ]
  },
  {
   "cell_type": "code",
   "execution_count": 33,
   "metadata": {},
   "outputs": [],
   "source": [
    "a"
   ]
  },
  {
   "cell_type": "code",
   "execution_count": 34,
   "metadata": {},
   "outputs": [],
   "source": [
    "a = f.summary(plot = False, method = 'bic')"
   ]
  },
  {
   "cell_type": "code",
   "execution_count": 35,
   "metadata": {},
   "outputs": [
    {
     "data": {
      "text/html": [
       "<div>\n",
       "<style scoped>\n",
       "    .dataframe tbody tr th:only-of-type {\n",
       "        vertical-align: middle;\n",
       "    }\n",
       "\n",
       "    .dataframe tbody tr th {\n",
       "        vertical-align: top;\n",
       "    }\n",
       "\n",
       "    .dataframe thead th {\n",
       "        text-align: right;\n",
       "    }\n",
       "</style>\n",
       "<table border=\"1\" class=\"dataframe\">\n",
       "  <thead>\n",
       "    <tr style=\"text-align: right;\">\n",
       "      <th></th>\n",
       "      <th>sumsquare_error</th>\n",
       "      <th>aic</th>\n",
       "      <th>bic</th>\n",
       "      <th>kl_div</th>\n",
       "    </tr>\n",
       "  </thead>\n",
       "  <tbody>\n",
       "    <tr>\n",
       "      <th>nct</th>\n",
       "      <td>16.846525</td>\n",
       "      <td>501.242297</td>\n",
       "      <td>-19400.561561</td>\n",
       "      <td>inf</td>\n",
       "    </tr>\n",
       "    <tr>\n",
       "      <th>t</th>\n",
       "      <td>19.501661</td>\n",
       "      <td>489.176681</td>\n",
       "      <td>-18879.096018</td>\n",
       "      <td>inf</td>\n",
       "    </tr>\n",
       "    <tr>\n",
       "      <th>beta</th>\n",
       "      <td>203.677631</td>\n",
       "      <td>2647.264103</td>\n",
       "      <td>-10380.587336</td>\n",
       "      <td>inf</td>\n",
       "    </tr>\n",
       "    <tr>\n",
       "      <th>norm</th>\n",
       "      <td>204.636131</td>\n",
       "      <td>2582.728050</td>\n",
       "      <td>-10379.984295</td>\n",
       "      <td>inf</td>\n",
       "    </tr>\n",
       "  </tbody>\n",
       "</table>\n",
       "</div>"
      ],
      "text/plain": [
       "      sumsquare_error          aic           bic  kl_div\n",
       "nct         16.846525   501.242297 -19400.561561     inf\n",
       "t           19.501661   489.176681 -18879.096018     inf\n",
       "beta       203.677631  2647.264103 -10380.587336     inf\n",
       "norm       204.636131  2582.728050 -10379.984295     inf"
      ]
     },
     "execution_count": 35,
     "metadata": {},
     "output_type": "execute_result"
    }
   ],
   "source": [
    "a"
   ]
  },
  {
   "cell_type": "code",
   "execution_count": 36,
   "metadata": {},
   "outputs": [],
   "source": [
    "param = f.fitted_param['beta']"
   ]
  },
  {
   "cell_type": "code",
   "execution_count": 37,
   "metadata": {},
   "outputs": [
    {
     "data": {
      "text/plain": [
       "(8485.559037708663,\n",
       " 38856.446369053796,\n",
       " -2.6928656337684993,\n",
       " 15.029245272006857)"
      ]
     },
     "execution_count": 37,
     "metadata": {},
     "output_type": "execute_result"
    }
   ],
   "source": [
    "param"
   ]
  },
  {
   "cell_type": "code",
   "execution_count": 38,
   "metadata": {},
   "outputs": [],
   "source": [
    "from scipy.stats import norm,t, nct"
   ]
  },
  {
   "cell_type": "code",
   "execution_count": 39,
   "metadata": {},
   "outputs": [],
   "source": [
    "data = df_returns['AXISBANK.BO']"
   ]
  },
  {
   "cell_type": "code",
   "execution_count": 40,
   "metadata": {},
   "outputs": [
    {
     "data": {
      "text/plain": [
       "-0.2801447374579952"
      ]
     },
     "execution_count": 40,
     "metadata": {},
     "output_type": "execute_result"
    }
   ],
   "source": [
    "np.min(data)"
   ]
  },
  {
   "cell_type": "code",
   "execution_count": 41,
   "metadata": {},
   "outputs": [
    {
     "data": {
      "text/plain": [
       "0.22216183542921786"
      ]
     },
     "execution_count": 41,
     "metadata": {},
     "output_type": "execute_result"
    }
   ],
   "source": [
    "np.max(data)"
   ]
  },
  {
   "cell_type": "code",
   "execution_count": 42,
   "metadata": {},
   "outputs": [
    {
     "data": {
      "text/plain": [
       "3619"
      ]
     },
     "execution_count": 42,
     "metadata": {},
     "output_type": "execute_result"
    }
   ],
   "source": [
    "len(data)"
   ]
  },
  {
   "cell_type": "code",
   "execution_count": 43,
   "metadata": {},
   "outputs": [],
   "source": [
    "# distribution fitting\n",
    "def distribution_fitting(data, dist = 'norm'):\n",
    "\n",
    "    x_quantile = np.linspace(np.min(data), np.max(data), len(data))\n",
    "\n",
    "    if dist == 'norm':\n",
    "        param = f.fitted_param[dist]\n",
    "        a_tmp = norm.pdf(x_quantile, loc = param[0], scale = param[1])\n",
    "    \n",
    "    elif dist == 't':\n",
    "        param = f.fitted_param[dist]\n",
    "        a_tmp = t.pdf(x_quantile, param[0], param[1], param[2])\n",
    "\n",
    "    elif dist == 'nct':\n",
    "        param = f.fitted_param[dist]\n",
    "        a_tmp = nct.pdf(x_quantile, param[0], param[1], param[2], param[3])\n",
    "    \n",
    "\n",
    "    plt.hist(data, bins = 100,  density = True)\n",
    "    plt.plot(x_quantile, a_tmp, color = 'black')\n",
    "\n",
    "    return x_quantile, a_tmp\n",
    "    "
   ]
  },
  {
   "cell_type": "code",
   "execution_count": 44,
   "metadata": {},
   "outputs": [
    {
     "data": {
      "image/png": "[encoded data removed]",
      "text/plain": [
       "<Figure size 432x288 with 1 Axes>"
      ]
     },
     "metadata": {},
     "output_type": "display_data"
    }
   ],
   "source": [
    "\n",
    "tmp = distribution_fitting(df_returns['AXISBANK.BO'], 'norm')"
   ]
  },
  {
   "cell_type": "code",
   "execution_count": 45,
   "metadata": {},
   "outputs": [
    {
     "data": {
      "text/plain": [
       "(array([-0.28014474, -0.2800059 , -0.27986707, ...,  0.22188416,\n",
       "         0.222023  ,  0.22216184]),\n",
       " array([5.56393725e-24, 5.88177708e-24, 6.21760287e-24, ...,\n",
       "        1.23311027e-14, 1.18040950e-14, 1.12993006e-14]))"
      ]
     },
     "execution_count": 45,
     "metadata": {},
     "output_type": "execute_result"
    }
   ],
   "source": [
    "tmp"
   ]
  },
  {
   "cell_type": "markdown",
   "metadata": {},
   "source": [
    "# Display Financial Data for Tickers"
   ]
  },
  {
   "cell_type": "code",
   "execution_count": 46,
   "metadata": {},
   "outputs": [
    {
     "data": {
      "text/plain": [
       "Index(['AXISBANK.BO', 'BAJFINANCE.BO', 'BHARTIARTL.BO', 'HDFC.BO', 'NTPC.BO'], dtype='object')"
      ]
     },
     "execution_count": 46,
     "metadata": {},
     "output_type": "execute_result"
    }
   ],
   "source": [
    "col_Names = df_subset_vis.columns\n",
    "col_Names"
   ]
  },
  {
   "cell_type": "code",
   "execution_count": 47,
   "metadata": {},
   "outputs": [
    {
     "data": {
      "text/plain": [
       "yfinance.Ticker object <BHARTIARTL.BO>"
      ]
     },
     "execution_count": 47,
     "metadata": {},
     "output_type": "execute_result"
    }
   ],
   "source": [
    "ticker_info = yf.Ticker(col_Names[2])\n",
    "ticker_info"
   ]
  },
  {
   "cell_type": "code",
   "execution_count": 48,
   "metadata": {},
   "outputs": [
    {
     "data": {
      "text/html": [
       "<div>\n",
       "<style scoped>\n",
       "    .dataframe tbody tr th:only-of-type {\n",
       "        vertical-align: middle;\n",
       "    }\n",
       "\n",
       "    .dataframe tbody tr th {\n",
       "        vertical-align: top;\n",
       "    }\n",
       "\n",
       "    .dataframe thead th {\n",
       "        text-align: right;\n",
       "    }\n",
       "</style>\n",
       "<table border=\"1\" class=\"dataframe\">\n",
       "  <thead>\n",
       "    <tr style=\"text-align: right;\">\n",
       "      <th></th>\n",
       "      <th>2020-06-30</th>\n",
       "      <th>2020-03-31</th>\n",
       "      <th>2019-12-31</th>\n",
       "      <th>2019-09-30</th>\n",
       "    </tr>\n",
       "  </thead>\n",
       "  <tbody>\n",
       "    <tr>\n",
       "      <th>Intangible Assets</th>\n",
       "      <td>1.142479e+12</td>\n",
       "      <td>8.125920e+11</td>\n",
       "      <td>1.159315e+12</td>\n",
       "      <td>8.326760e+11</td>\n",
       "    </tr>\n",
       "    <tr>\n",
       "      <th>Total Liab</th>\n",
       "      <td>2.662899e+12</td>\n",
       "      <td>2.586495e+12</td>\n",
       "      <td>2.603054e+12</td>\n",
       "      <td>2.486077e+12</td>\n",
       "    </tr>\n",
       "    <tr>\n",
       "      <th>Total Stockholder Equity</th>\n",
       "      <td>6.099020e+11</td>\n",
       "      <td>7.714480e+11</td>\n",
       "      <td>6.882870e+11</td>\n",
       "      <td>6.998330e+11</td>\n",
       "    </tr>\n",
       "    <tr>\n",
       "      <th>Minority Interest</th>\n",
       "      <td>2.485440e+11</td>\n",
       "      <td>2.498470e+11</td>\n",
       "      <td>2.229180e+11</td>\n",
       "      <td>1.703160e+11</td>\n",
       "    </tr>\n",
       "    <tr>\n",
       "      <th>Other Current Liab</th>\n",
       "      <td>8.038810e+11</td>\n",
       "      <td>6.762900e+11</td>\n",
       "      <td>7.476720e+11</td>\n",
       "      <td>2.815840e+11</td>\n",
       "    </tr>\n",
       "    <tr>\n",
       "      <th>Total Assets</th>\n",
       "      <td>3.521345e+12</td>\n",
       "      <td>3.607790e+12</td>\n",
       "      <td>3.514259e+12</td>\n",
       "      <td>3.356226e+12</td>\n",
       "    </tr>\n",
       "    <tr>\n",
       "      <th>Common Stock</th>\n",
       "      <td>6.099020e+11</td>\n",
       "      <td>2.727800e+10</td>\n",
       "      <td>2.566000e+10</td>\n",
       "      <td>2.566000e+10</td>\n",
       "    </tr>\n",
       "    <tr>\n",
       "      <th>Other Current Assets</th>\n",
       "      <td>2.039290e+11</td>\n",
       "      <td>2.793610e+11</td>\n",
       "      <td>1.637950e+11</td>\n",
       "      <td>1.538970e+11</td>\n",
       "    </tr>\n",
       "    <tr>\n",
       "      <th>Other Liab</th>\n",
       "      <td>1.307150e+11</td>\n",
       "      <td>1.171490e+11</td>\n",
       "      <td>9.607500e+10</td>\n",
       "      <td>1.026050e+11</td>\n",
       "    </tr>\n",
       "    <tr>\n",
       "      <th>Other Assets</th>\n",
       "      <td>3.266630e+11</td>\n",
       "      <td>3.888780e+11</td>\n",
       "      <td>3.362240e+11</td>\n",
       "      <td>3.321190e+11</td>\n",
       "    </tr>\n",
       "    <tr>\n",
       "      <th>Cash</th>\n",
       "      <td>1.574320e+11</td>\n",
       "      <td>1.355070e+11</td>\n",
       "      <td>1.260280e+11</td>\n",
       "      <td>1.277370e+11</td>\n",
       "    </tr>\n",
       "    <tr>\n",
       "      <th>Total Current Liabilities</th>\n",
       "      <td>1.452408e+12</td>\n",
       "      <td>1.314876e+12</td>\n",
       "      <td>1.454686e+12</td>\n",
       "      <td>1.271032e+12</td>\n",
       "    </tr>\n",
       "    <tr>\n",
       "      <th>Short Long Term Debt</th>\n",
       "      <td>3.760550e+11</td>\n",
       "      <td>9.836400e+10</td>\n",
       "      <td>4.124310e+11</td>\n",
       "      <td>8.385900e+10</td>\n",
       "    </tr>\n",
       "    <tr>\n",
       "      <th>Property Plant Equipment</th>\n",
       "      <td>1.171339e+12</td>\n",
       "      <td>1.176594e+12</td>\n",
       "      <td>1.153315e+12</td>\n",
       "      <td>1.143109e+12</td>\n",
       "    </tr>\n",
       "    <tr>\n",
       "      <th>Total Current Assets</th>\n",
       "      <td>7.400450e+11</td>\n",
       "      <td>7.664320e+11</td>\n",
       "      <td>7.384620e+11</td>\n",
       "      <td>5.966010e+11</td>\n",
       "    </tr>\n",
       "    <tr>\n",
       "      <th>Long Term Investments</th>\n",
       "      <td>1.408190e+11</td>\n",
       "      <td>1.171020e+11</td>\n",
       "      <td>1.269430e+11</td>\n",
       "      <td>1.151150e+11</td>\n",
       "    </tr>\n",
       "    <tr>\n",
       "      <th>Net Tangible Assets</th>\n",
       "      <td>-5.325770e+11</td>\n",
       "      <td>-3.873360e+11</td>\n",
       "      <td>-4.710280e+11</td>\n",
       "      <td>-4.694490e+11</td>\n",
       "    </tr>\n",
       "    <tr>\n",
       "      <th>Short Term Investments</th>\n",
       "      <td>3.226370e+11</td>\n",
       "      <td>1.441000e+09</td>\n",
       "      <td>3.950810e+11</td>\n",
       "      <td>2.604590e+11</td>\n",
       "    </tr>\n",
       "    <tr>\n",
       "      <th>Net Receivables</th>\n",
       "      <td>5.604700e+10</td>\n",
       "      <td>2.012400e+11</td>\n",
       "      <td>5.355800e+10</td>\n",
       "      <td>5.329000e+10</td>\n",
       "    </tr>\n",
       "    <tr>\n",
       "      <th>Long Term Debt</th>\n",
       "      <td>7.736430e+11</td>\n",
       "      <td>9.107920e+11</td>\n",
       "      <td>7.507640e+11</td>\n",
       "      <td>8.828920e+11</td>\n",
       "    </tr>\n",
       "    <tr>\n",
       "      <th>Accounts Payable</th>\n",
       "      <td>2.724720e+11</td>\n",
       "      <td>2.501990e+11</td>\n",
       "      <td>2.945830e+11</td>\n",
       "      <td>2.672120e+11</td>\n",
       "    </tr>\n",
       "    <tr>\n",
       "      <th>Capital Surplus</th>\n",
       "      <td>NaN</td>\n",
       "      <td>5.083190e+11</td>\n",
       "      <td>NaN</td>\n",
       "      <td>3.672590e+11</td>\n",
       "    </tr>\n",
       "    <tr>\n",
       "      <th>Deferred Long Term Liab</th>\n",
       "      <td>NaN</td>\n",
       "      <td>6.471000e+09</td>\n",
       "      <td>NaN</td>\n",
       "      <td>NaN</td>\n",
       "    </tr>\n",
       "    <tr>\n",
       "      <th>Retained Earnings</th>\n",
       "      <td>NaN</td>\n",
       "      <td>1.355860e+11</td>\n",
       "      <td>NaN</td>\n",
       "      <td>1.991470e+11</td>\n",
       "    </tr>\n",
       "    <tr>\n",
       "      <th>Good Will</th>\n",
       "      <td>NaN</td>\n",
       "      <td>3.461920e+11</td>\n",
       "      <td>NaN</td>\n",
       "      <td>3.366060e+11</td>\n",
       "    </tr>\n",
       "    <tr>\n",
       "      <th>Treasury Stock</th>\n",
       "      <td>NaN</td>\n",
       "      <td>1.002650e+11</td>\n",
       "      <td>6.626270e+11</td>\n",
       "      <td>1.077670e+11</td>\n",
       "    </tr>\n",
       "    <tr>\n",
       "      <th>Deferred Long Term Asset Charges</th>\n",
       "      <td>NaN</td>\n",
       "      <td>2.701600e+11</td>\n",
       "      <td>NaN</td>\n",
       "      <td>2.181240e+11</td>\n",
       "    </tr>\n",
       "    <tr>\n",
       "      <th>Other Stockholder Equity</th>\n",
       "      <td>NaN</td>\n",
       "      <td>1.010530e+11</td>\n",
       "      <td>6.626270e+11</td>\n",
       "      <td>1.082480e+11</td>\n",
       "    </tr>\n",
       "    <tr>\n",
       "      <th>Inventory</th>\n",
       "      <td>NaN</td>\n",
       "      <td>1.569000e+09</td>\n",
       "      <td>NaN</td>\n",
       "      <td>1.218000e+09</td>\n",
       "    </tr>\n",
       "  </tbody>\n",
       "</table>\n",
       "</div>"
      ],
      "text/plain": [
       "                                    2020-06-30    2020-03-31    2019-12-31  \\\n",
       "Intangible Assets                 1.142479e+12  8.125920e+11  1.159315e+12   \n",
       "Total Liab                        2.662899e+12  2.586495e+12  2.603054e+12   \n",
       "Total Stockholder Equity          6.099020e+11  7.714480e+11  6.882870e+11   \n",
       "Minority Interest                 2.485440e+11  2.498470e+11  2.229180e+11   \n",
       "Other Current Liab                8.038810e+11  6.762900e+11  7.476720e+11   \n",
       "Total Assets                      3.521345e+12  3.607790e+12  3.514259e+12   \n",
       "Common Stock                      6.099020e+11  2.727800e+10  2.566000e+10   \n",
       "Other Current Assets              2.039290e+11  2.793610e+11  1.637950e+11   \n",
       "Other Liab                        1.307150e+11  1.171490e+11  9.607500e+10   \n",
       "Other Assets                      3.266630e+11  3.888780e+11  3.362240e+11   \n",
       "Cash                              1.574320e+11  1.355070e+11  1.260280e+11   \n",
       "Total Current Liabilities         1.452408e+12  1.314876e+12  1.454686e+12   \n",
       "Short Long Term Debt              3.760550e+11  9.836400e+10  4.124310e+11   \n",
       "Property Plant Equipment          1.171339e+12  1.176594e+12  1.153315e+12   \n",
       "Total Current Assets              7.400450e+11  7.664320e+11  7.384620e+11   \n",
       "Long Term Investments             1.408190e+11  1.171020e+11  1.269430e+11   \n",
       "Net Tangible Assets              -5.325770e+11 -3.873360e+11 -4.710280e+11   \n",
       "Short Term Investments            3.226370e+11  1.441000e+09  3.950810e+11   \n",
       "Net Receivables                   5.604700e+10  2.012400e+11  5.355800e+10   \n",
       "Long Term Debt                    7.736430e+11  9.107920e+11  7.507640e+11   \n",
       "Accounts Payable                  2.724720e+11  2.501990e+11  2.945830e+11   \n",
       "Capital Surplus                            NaN  5.083190e+11           NaN   \n",
       "Deferred Long Term Liab                    NaN  6.471000e+09           NaN   \n",
       "Retained Earnings                          NaN  1.355860e+11           NaN   \n",
       "Good Will                                  NaN  3.461920e+11           NaN   \n",
       "Treasury Stock                             NaN  1.002650e+11  6.626270e+11   \n",
       "Deferred Long Term Asset Charges           NaN  2.701600e+11           NaN   \n",
       "Other Stockholder Equity                   NaN  1.010530e+11  6.626270e+11   \n",
       "Inventory                                  NaN  1.569000e+09           NaN   \n",
       "\n",
       "                                    2019-09-30  \n",
       "Intangible Assets                 8.326760e+11  \n",
       "Total Liab                        2.486077e+12  \n",
       "Total Stockholder Equity          6.998330e+11  \n",
       "Minority Interest                 1.703160e+11  \n",
       "Other Current Liab                2.815840e+11  \n",
       "Total Assets                      3.356226e+12  \n",
       "Common Stock                      2.566000e+10  \n",
       "Other Current Assets              1.538970e+11  \n",
       "Other Liab                        1.026050e+11  \n",
       "Other Assets                      3.321190e+11  \n",
       "Cash                              1.277370e+11  \n",
       "Total Current Liabilities         1.271032e+12  \n",
       "Short Long Term Debt              8.385900e+10  \n",
       "Property Plant Equipment          1.143109e+12  \n",
       "Total Current Assets              5.966010e+11  \n",
       "Long Term Investments             1.151150e+11  \n",
       "Net Tangible Assets              -4.694490e+11  \n",
       "Short Term Investments            2.604590e+11  \n",
       "Net Receivables                   5.329000e+10  \n",
       "Long Term Debt                    8.828920e+11  \n",
       "Accounts Payable                  2.672120e+11  \n",
       "Capital Surplus                   3.672590e+11  \n",
       "Deferred Long Term Liab                    NaN  \n",
       "Retained Earnings                 1.991470e+11  \n",
       "Good Will                         3.366060e+11  \n",
       "Treasury Stock                    1.077670e+11  \n",
       "Deferred Long Term Asset Charges  2.181240e+11  \n",
       "Other Stockholder Equity          1.082480e+11  \n",
       "Inventory                         1.218000e+09  "
      ]
     },
     "execution_count": 48,
     "metadata": {},
     "output_type": "execute_result"
    }
   ],
   "source": [
    "ticker_info.quarterly_balance_sheet"
   ]
  },
  {
   "cell_type": "code",
   "execution_count": 49,
   "metadata": {},
   "outputs": [
    {
     "data": {
      "text/html": [
       "<div>\n",
       "<style scoped>\n",
       "    .dataframe tbody tr th:only-of-type {\n",
       "        vertical-align: middle;\n",
       "    }\n",
       "\n",
       "    .dataframe tbody tr th {\n",
       "        vertical-align: top;\n",
       "    }\n",
       "\n",
       "    .dataframe thead th {\n",
       "        text-align: right;\n",
       "    }\n",
       "</style>\n",
       "<table border=\"1\" class=\"dataframe\">\n",
       "  <thead>\n",
       "    <tr style=\"text-align: right;\">\n",
       "      <th></th>\n",
       "      <th>2020-06-30</th>\n",
       "      <th>2020-03-31</th>\n",
       "      <th>2019-12-31</th>\n",
       "      <th>2019-09-30</th>\n",
       "    </tr>\n",
       "  </thead>\n",
       "  <tbody>\n",
       "    <tr>\n",
       "      <th>Research Development</th>\n",
       "      <td>None</td>\n",
       "      <td>None</td>\n",
       "      <td>None</td>\n",
       "      <td>None</td>\n",
       "    </tr>\n",
       "    <tr>\n",
       "      <th>Effect Of Accounting Charges</th>\n",
       "      <td>None</td>\n",
       "      <td>None</td>\n",
       "      <td>None</td>\n",
       "      <td>None</td>\n",
       "    </tr>\n",
       "    <tr>\n",
       "      <th>Income Before Tax</th>\n",
       "      <td>-113737000000.0</td>\n",
       "      <td>-70105000000.0</td>\n",
       "      <td>-15028000000.0</td>\n",
       "      <td>-313340000000.0</td>\n",
       "    </tr>\n",
       "    <tr>\n",
       "      <th>Minority Interest</th>\n",
       "      <td>248544000000.0</td>\n",
       "      <td>249847000000.0</td>\n",
       "      <td>222918000000.0</td>\n",
       "      <td>170316000000.0</td>\n",
       "    </tr>\n",
       "    <tr>\n",
       "      <th>Net Income</th>\n",
       "      <td>-159331000000.0</td>\n",
       "      <td>-52370000000.0</td>\n",
       "      <td>-10353000000.0</td>\n",
       "      <td>-230449000000.0</td>\n",
       "    </tr>\n",
       "    <tr>\n",
       "      <th>Selling General Administrative</th>\n",
       "      <td>7301000000.0</td>\n",
       "      <td>9355000000.0</td>\n",
       "      <td>9003000000.0</td>\n",
       "      <td>7581000000.0</td>\n",
       "    </tr>\n",
       "    <tr>\n",
       "      <th>Gross Profit</th>\n",
       "      <td>128748000000.0</td>\n",
       "      <td>127419000000.0</td>\n",
       "      <td>116445000000.0</td>\n",
       "      <td>109684000000.0</td>\n",
       "    </tr>\n",
       "    <tr>\n",
       "      <th>Ebit</th>\n",
       "      <td>32553000000.0</td>\n",
       "      <td>32475000000.0</td>\n",
       "      <td>24006000000.0</td>\n",
       "      <td>19929000000.0</td>\n",
       "    </tr>\n",
       "    <tr>\n",
       "      <th>Operating Income</th>\n",
       "      <td>32553000000.0</td>\n",
       "      <td>32475000000.0</td>\n",
       "      <td>24006000000.0</td>\n",
       "      <td>19929000000.0</td>\n",
       "    </tr>\n",
       "    <tr>\n",
       "      <th>Other Operating Expenses</th>\n",
       "      <td>16626000000.0</td>\n",
       "      <td>14342000000.0</td>\n",
       "      <td>14028000000.0</td>\n",
       "      <td>12823000000.0</td>\n",
       "    </tr>\n",
       "    <tr>\n",
       "      <th>Interest Expense</th>\n",
       "      <td>-33570000000.0</td>\n",
       "      <td>-33570000000.0</td>\n",
       "      <td>-30873000000.0</td>\n",
       "      <td>-31872000000.0</td>\n",
       "    </tr>\n",
       "    <tr>\n",
       "      <th>Extraordinary Items</th>\n",
       "      <td>None</td>\n",
       "      <td>None</td>\n",
       "      <td>None</td>\n",
       "      <td>None</td>\n",
       "    </tr>\n",
       "    <tr>\n",
       "      <th>Non Recurring</th>\n",
       "      <td>None</td>\n",
       "      <td>None</td>\n",
       "      <td>None</td>\n",
       "      <td>None</td>\n",
       "    </tr>\n",
       "    <tr>\n",
       "      <th>Other Items</th>\n",
       "      <td>None</td>\n",
       "      <td>None</td>\n",
       "      <td>None</td>\n",
       "      <td>None</td>\n",
       "    </tr>\n",
       "    <tr>\n",
       "      <th>Income Tax Expense</th>\n",
       "      <td>38175000000.0</td>\n",
       "      <td>-20335000000.0</td>\n",
       "      <td>-10379000000.0</td>\n",
       "      <td>-85039000000.0</td>\n",
       "    </tr>\n",
       "    <tr>\n",
       "      <th>Total Revenue</th>\n",
       "      <td>240129000000.0</td>\n",
       "      <td>238221000000.0</td>\n",
       "      <td>220216000000.0</td>\n",
       "      <td>211990000000.0</td>\n",
       "    </tr>\n",
       "    <tr>\n",
       "      <th>Total Operating Expenses</th>\n",
       "      <td>207576000000.0</td>\n",
       "      <td>205746000000.0</td>\n",
       "      <td>196210000000.0</td>\n",
       "      <td>192061000000.0</td>\n",
       "    </tr>\n",
       "    <tr>\n",
       "      <th>Cost Of Revenue</th>\n",
       "      <td>111381000000.0</td>\n",
       "      <td>110802000000.0</td>\n",
       "      <td>103771000000.0</td>\n",
       "      <td>102306000000.0</td>\n",
       "    </tr>\n",
       "    <tr>\n",
       "      <th>Total Other Income Expense Net</th>\n",
       "      <td>-146290000000.0</td>\n",
       "      <td>-102580000000.0</td>\n",
       "      <td>-39034000000.0</td>\n",
       "      <td>-333269000000.0</td>\n",
       "    </tr>\n",
       "    <tr>\n",
       "      <th>Discontinued Operations</th>\n",
       "      <td>None</td>\n",
       "      <td>None</td>\n",
       "      <td>None</td>\n",
       "      <td>None</td>\n",
       "    </tr>\n",
       "    <tr>\n",
       "      <th>Net Income From Continuing Ops</th>\n",
       "      <td>-151912000000.0</td>\n",
       "      <td>-49770000000.0</td>\n",
       "      <td>-4649000000.0</td>\n",
       "      <td>-228301000000.0</td>\n",
       "    </tr>\n",
       "    <tr>\n",
       "      <th>Net Income Applicable To Common Shares</th>\n",
       "      <td>-159331000000.0</td>\n",
       "      <td>-52370000000.0</td>\n",
       "      <td>-10353000000.0</td>\n",
       "      <td>-230449000000.0</td>\n",
       "    </tr>\n",
       "  </tbody>\n",
       "</table>\n",
       "</div>"
      ],
      "text/plain": [
       "                                            2020-06-30      2020-03-31  \\\n",
       "Research Development                              None            None   \n",
       "Effect Of Accounting Charges                      None            None   \n",
       "Income Before Tax                      -113737000000.0  -70105000000.0   \n",
       "Minority Interest                       248544000000.0  249847000000.0   \n",
       "Net Income                             -159331000000.0  -52370000000.0   \n",
       "Selling General Administrative            7301000000.0    9355000000.0   \n",
       "Gross Profit                            128748000000.0  127419000000.0   \n",
       "Ebit                                     32553000000.0   32475000000.0   \n",
       "Operating Income                         32553000000.0   32475000000.0   \n",
       "Other Operating Expenses                 16626000000.0   14342000000.0   \n",
       "Interest Expense                        -33570000000.0  -33570000000.0   \n",
       "Extraordinary Items                               None            None   \n",
       "Non Recurring                                     None            None   \n",
       "Other Items                                       None            None   \n",
       "Income Tax Expense                       38175000000.0  -20335000000.0   \n",
       "Total Revenue                           240129000000.0  238221000000.0   \n",
       "Total Operating Expenses                207576000000.0  205746000000.0   \n",
       "Cost Of Revenue                         111381000000.0  110802000000.0   \n",
       "Total Other Income Expense Net         -146290000000.0 -102580000000.0   \n",
       "Discontinued Operations                           None            None   \n",
       "Net Income From Continuing Ops         -151912000000.0  -49770000000.0   \n",
       "Net Income Applicable To Common Shares -159331000000.0  -52370000000.0   \n",
       "\n",
       "                                            2019-12-31      2019-09-30  \n",
       "Research Development                              None            None  \n",
       "Effect Of Accounting Charges                      None            None  \n",
       "Income Before Tax                       -15028000000.0 -313340000000.0  \n",
       "Minority Interest                       222918000000.0  170316000000.0  \n",
       "Net Income                              -10353000000.0 -230449000000.0  \n",
       "Selling General Administrative            9003000000.0    7581000000.0  \n",
       "Gross Profit                            116445000000.0  109684000000.0  \n",
       "Ebit                                     24006000000.0   19929000000.0  \n",
       "Operating Income                         24006000000.0   19929000000.0  \n",
       "Other Operating Expenses                 14028000000.0   12823000000.0  \n",
       "Interest Expense                        -30873000000.0  -31872000000.0  \n",
       "Extraordinary Items                               None            None  \n",
       "Non Recurring                                     None            None  \n",
       "Other Items                                       None            None  \n",
       "Income Tax Expense                      -10379000000.0  -85039000000.0  \n",
       "Total Revenue                           220216000000.0  211990000000.0  \n",
       "Total Operating Expenses                196210000000.0  192061000000.0  \n",
       "Cost Of Revenue                         103771000000.0  102306000000.0  \n",
       "Total Other Income Expense Net          -39034000000.0 -333269000000.0  \n",
       "Discontinued Operations                           None            None  \n",
       "Net Income From Continuing Ops           -4649000000.0 -228301000000.0  \n",
       "Net Income Applicable To Common Shares  -10353000000.0 -230449000000.0  "
      ]
     },
     "execution_count": 49,
     "metadata": {},
     "output_type": "execute_result"
    }
   ],
   "source": [
    "ticker_info.quarterly_financials"
   ]
  },
  {
   "cell_type": "code",
   "execution_count": 50,
   "metadata": {},
   "outputs": [
    {
     "data": {
      "text/html": [
       "<div>\n",
       "<style scoped>\n",
       "    .dataframe tbody tr th:only-of-type {\n",
       "        vertical-align: middle;\n",
       "    }\n",
       "\n",
       "    .dataframe tbody tr th {\n",
       "        vertical-align: top;\n",
       "    }\n",
       "\n",
       "    .dataframe thead th {\n",
       "        text-align: right;\n",
       "    }\n",
       "</style>\n",
       "<table border=\"1\" class=\"dataframe\">\n",
       "  <thead>\n",
       "    <tr style=\"text-align: right;\">\n",
       "      <th></th>\n",
       "      <th>2020-06-30</th>\n",
       "      <th>2020-03-31</th>\n",
       "      <th>2019-12-31</th>\n",
       "      <th>2019-09-30</th>\n",
       "    </tr>\n",
       "  </thead>\n",
       "  <tbody>\n",
       "    <tr>\n",
       "      <th>Investments</th>\n",
       "      <td>-5.880000e+08</td>\n",
       "      <td>5.852700e+10</td>\n",
       "      <td>-1.324850e+11</td>\n",
       "      <td>-2.412000e+09</td>\n",
       "    </tr>\n",
       "    <tr>\n",
       "      <th>Change To Liabilities</th>\n",
       "      <td>1.108500e+10</td>\n",
       "      <td>-1.562900e+10</td>\n",
       "      <td>2.332500e+10</td>\n",
       "      <td>-1.649800e+10</td>\n",
       "    </tr>\n",
       "    <tr>\n",
       "      <th>Total Cashflows From Investing Activities</th>\n",
       "      <td>-4.925000e+10</td>\n",
       "      <td>-1.864000e+09</td>\n",
       "      <td>-1.899450e+11</td>\n",
       "      <td>-4.346000e+10</td>\n",
       "    </tr>\n",
       "    <tr>\n",
       "      <th>Net Borrowings</th>\n",
       "      <td>-4.062100e+10</td>\n",
       "      <td>4.844400e+10</td>\n",
       "      <td>7.644900e+10</td>\n",
       "      <td>-9.262000e+09</td>\n",
       "    </tr>\n",
       "    <tr>\n",
       "      <th>Total Cash From Financing Activities</th>\n",
       "      <td>-6.767000e+10</td>\n",
       "      <td>1.075220e+11</td>\n",
       "      <td>7.545300e+10</td>\n",
       "      <td>2.737000e+10</td>\n",
       "    </tr>\n",
       "    <tr>\n",
       "      <th>Change To Operating Activities</th>\n",
       "      <td>2.318000e+10</td>\n",
       "      <td>-1.682860e+11</td>\n",
       "      <td>1.225000e+09</td>\n",
       "      <td>3.181000e+09</td>\n",
       "    </tr>\n",
       "    <tr>\n",
       "      <th>Net Income</th>\n",
       "      <td>-1.593310e+11</td>\n",
       "      <td>-5.237000e+10</td>\n",
       "      <td>-1.035300e+10</td>\n",
       "      <td>-2.304490e+11</td>\n",
       "    </tr>\n",
       "    <tr>\n",
       "      <th>Change In Cash</th>\n",
       "      <td>-1.045000e+09</td>\n",
       "      <td>3.265400e+10</td>\n",
       "      <td>-2.849000e+09</td>\n",
       "      <td>5.128500e+10</td>\n",
       "    </tr>\n",
       "    <tr>\n",
       "      <th>Repurchase Of Stock</th>\n",
       "      <td>-2.100000e+07</td>\n",
       "      <td>-5.000000e+06</td>\n",
       "      <td>-4.110000e+08</td>\n",
       "      <td>-1.000000e+06</td>\n",
       "    </tr>\n",
       "    <tr>\n",
       "      <th>Effect Of Exchange Rate</th>\n",
       "      <td>-3.640000e+08</td>\n",
       "      <td>6.477000e+09</td>\n",
       "      <td>-2.000000e+06</td>\n",
       "      <td>2.560000e+09</td>\n",
       "    </tr>\n",
       "    <tr>\n",
       "      <th>Total Cash From Operating Activities</th>\n",
       "      <td>1.162390e+11</td>\n",
       "      <td>-7.948100e+10</td>\n",
       "      <td>1.116450e+11</td>\n",
       "      <td>6.481500e+10</td>\n",
       "    </tr>\n",
       "    <tr>\n",
       "      <th>Depreciation</th>\n",
       "      <td>7.226800e+10</td>\n",
       "      <td>6.740700e+10</td>\n",
       "      <td>6.940900e+10</td>\n",
       "      <td>6.789400e+10</td>\n",
       "    </tr>\n",
       "    <tr>\n",
       "      <th>Other Cashflows From Investing Activities</th>\n",
       "      <td>6.440000e+09</td>\n",
       "      <td>1.209000e+09</td>\n",
       "      <td>1.038000e+09</td>\n",
       "      <td>8.820000e+08</td>\n",
       "    </tr>\n",
       "    <tr>\n",
       "      <th>Dividends Paid</th>\n",
       "      <td>-5.678000e+09</td>\n",
       "      <td>-3.290000e+08</td>\n",
       "      <td>-6.377000e+09</td>\n",
       "      <td>-3.784000e+09</td>\n",
       "    </tr>\n",
       "    <tr>\n",
       "      <th>Change To Account Receivables</th>\n",
       "      <td>-1.473700e+10</td>\n",
       "      <td>7.888000e+09</td>\n",
       "      <td>-9.070000e+08</td>\n",
       "      <td>-3.801000e+09</td>\n",
       "    </tr>\n",
       "    <tr>\n",
       "      <th>Other Cashflows From Financing Activities</th>\n",
       "      <td>-2.135000e+10</td>\n",
       "      <td>-8.327100e+10</td>\n",
       "      <td>5.792000e+09</td>\n",
       "      <td>4.040700e+10</td>\n",
       "    </tr>\n",
       "    <tr>\n",
       "      <th>Change To Netincome</th>\n",
       "      <td>1.837740e+11</td>\n",
       "      <td>7.888800e+10</td>\n",
       "      <td>2.894600e+10</td>\n",
       "      <td>2.431930e+11</td>\n",
       "    </tr>\n",
       "    <tr>\n",
       "      <th>Capital Expenditures</th>\n",
       "      <td>-5.333800e+10</td>\n",
       "      <td>-4.639500e+10</td>\n",
       "      <td>-5.661400e+10</td>\n",
       "      <td>-4.036500e+10</td>\n",
       "    </tr>\n",
       "    <tr>\n",
       "      <th>Issuance Of Stock</th>\n",
       "      <td>NaN</td>\n",
       "      <td>1.426830e+11</td>\n",
       "      <td>1.426830e+11</td>\n",
       "      <td>1.000000e+07</td>\n",
       "    </tr>\n",
       "    <tr>\n",
       "      <th>Change To Inventory</th>\n",
       "      <td>NaN</td>\n",
       "      <td>-5.220000e+08</td>\n",
       "      <td>-5.220000e+08</td>\n",
       "      <td>-1.620000e+08</td>\n",
       "    </tr>\n",
       "  </tbody>\n",
       "</table>\n",
       "</div>"
      ],
      "text/plain": [
       "                                             2020-06-30    2020-03-31  \\\n",
       "Investments                               -5.880000e+08  5.852700e+10   \n",
       "Change To Liabilities                      1.108500e+10 -1.562900e+10   \n",
       "Total Cashflows From Investing Activities -4.925000e+10 -1.864000e+09   \n",
       "Net Borrowings                            -4.062100e+10  4.844400e+10   \n",
       "Total Cash From Financing Activities      -6.767000e+10  1.075220e+11   \n",
       "Change To Operating Activities             2.318000e+10 -1.682860e+11   \n",
       "Net Income                                -1.593310e+11 -5.237000e+10   \n",
       "Change In Cash                            -1.045000e+09  3.265400e+10   \n",
       "Repurchase Of Stock                       -2.100000e+07 -5.000000e+06   \n",
       "Effect Of Exchange Rate                   -3.640000e+08  6.477000e+09   \n",
       "Total Cash From Operating Activities       1.162390e+11 -7.948100e+10   \n",
       "Depreciation                               7.226800e+10  6.740700e+10   \n",
       "Other Cashflows From Investing Activities  6.440000e+09  1.209000e+09   \n",
       "Dividends Paid                            -5.678000e+09 -3.290000e+08   \n",
       "Change To Account Receivables             -1.473700e+10  7.888000e+09   \n",
       "Other Cashflows From Financing Activities -2.135000e+10 -8.327100e+10   \n",
       "Change To Netincome                        1.837740e+11  7.888800e+10   \n",
       "Capital Expenditures                      -5.333800e+10 -4.639500e+10   \n",
       "Issuance Of Stock                                   NaN  1.426830e+11   \n",
       "Change To Inventory                                 NaN -5.220000e+08   \n",
       "\n",
       "                                             2019-12-31    2019-09-30  \n",
       "Investments                               -1.324850e+11 -2.412000e+09  \n",
       "Change To Liabilities                      2.332500e+10 -1.649800e+10  \n",
       "Total Cashflows From Investing Activities -1.899450e+11 -4.346000e+10  \n",
       "Net Borrowings                             7.644900e+10 -9.262000e+09  \n",
       "Total Cash From Financing Activities       7.545300e+10  2.737000e+10  \n",
       "Change To Operating Activities             1.225000e+09  3.181000e+09  \n",
       "Net Income                                -1.035300e+10 -2.304490e+11  \n",
       "Change In Cash                            -2.849000e+09  5.128500e+10  \n",
       "Repurchase Of Stock                       -4.110000e+08 -1.000000e+06  \n",
       "Effect Of Exchange Rate                   -2.000000e+06  2.560000e+09  \n",
       "Total Cash From Operating Activities       1.116450e+11  6.481500e+10  \n",
       "Depreciation                               6.940900e+10  6.789400e+10  \n",
       "Other Cashflows From Investing Activities  1.038000e+09  8.820000e+08  \n",
       "Dividends Paid                            -6.377000e+09 -3.784000e+09  \n",
       "Change To Account Receivables             -9.070000e+08 -3.801000e+09  \n",
       "Other Cashflows From Financing Activities  5.792000e+09  4.040700e+10  \n",
       "Change To Netincome                        2.894600e+10  2.431930e+11  \n",
       "Capital Expenditures                      -5.661400e+10 -4.036500e+10  \n",
       "Issuance Of Stock                          1.426830e+11  1.000000e+07  \n",
       "Change To Inventory                       -5.220000e+08 -1.620000e+08  "
      ]
     },
     "execution_count": 50,
     "metadata": {},
     "output_type": "execute_result"
    }
   ],
   "source": [
    "ticker_info.quarterly_cashflow"
   ]
  },
  {
   "cell_type": "code",
   "execution_count": 51,
   "metadata": {},
   "outputs": [
    {
     "data": {
      "text/html": [
       "<div>\n",
       "<style scoped>\n",
       "    .dataframe tbody tr th:only-of-type {\n",
       "        vertical-align: middle;\n",
       "    }\n",
       "\n",
       "    .dataframe tbody tr th {\n",
       "        vertical-align: top;\n",
       "    }\n",
       "\n",
       "    .dataframe thead th {\n",
       "        text-align: right;\n",
       "    }\n",
       "</style>\n",
       "<table border=\"1\" class=\"dataframe\">\n",
       "  <thead>\n",
       "    <tr style=\"text-align: right;\">\n",
       "      <th></th>\n",
       "      <th>Dividends</th>\n",
       "      <th>Stock Splits</th>\n",
       "    </tr>\n",
       "    <tr>\n",
       "      <th>Date</th>\n",
       "      <th></th>\n",
       "      <th></th>\n",
       "    </tr>\n",
       "  </thead>\n",
       "  <tbody>\n",
       "    <tr>\n",
       "      <th>2009-07-24</th>\n",
       "      <td>0.901093</td>\n",
       "      <td>2.0</td>\n",
       "    </tr>\n",
       "    <tr>\n",
       "      <th>2010-08-18</th>\n",
       "      <td>0.901093</td>\n",
       "      <td>0.0</td>\n",
       "    </tr>\n",
       "    <tr>\n",
       "      <th>2011-08-17</th>\n",
       "      <td>0.901093</td>\n",
       "      <td>0.0</td>\n",
       "    </tr>\n",
       "    <tr>\n",
       "      <th>2012-08-16</th>\n",
       "      <td>0.901093</td>\n",
       "      <td>0.0</td>\n",
       "    </tr>\n",
       "    <tr>\n",
       "      <th>2013-05-23</th>\n",
       "      <td>0.901093</td>\n",
       "      <td>0.0</td>\n",
       "    </tr>\n",
       "    <tr>\n",
       "      <th>2014-08-21</th>\n",
       "      <td>1.468782</td>\n",
       "      <td>0.0</td>\n",
       "    </tr>\n",
       "    <tr>\n",
       "      <th>2015-08-13</th>\n",
       "      <td>2.000427</td>\n",
       "      <td>0.0</td>\n",
       "    </tr>\n",
       "    <tr>\n",
       "      <th>2016-08-11</th>\n",
       "      <td>1.225487</td>\n",
       "      <td>0.0</td>\n",
       "    </tr>\n",
       "    <tr>\n",
       "      <th>2017-07-13</th>\n",
       "      <td>0.901093</td>\n",
       "      <td>0.0</td>\n",
       "    </tr>\n",
       "    <tr>\n",
       "      <th>2018-01-30</th>\n",
       "      <td>2.559105</td>\n",
       "      <td>0.0</td>\n",
       "    </tr>\n",
       "    <tr>\n",
       "      <th>2018-08-02</th>\n",
       "      <td>2.252733</td>\n",
       "      <td>0.0</td>\n",
       "    </tr>\n",
       "    <tr>\n",
       "      <th>2018-11-05</th>\n",
       "      <td>2.252733</td>\n",
       "      <td>0.0</td>\n",
       "    </tr>\n",
       "    <tr>\n",
       "      <th>2020-08-06</th>\n",
       "      <td>1.963167</td>\n",
       "      <td>0.0</td>\n",
       "    </tr>\n",
       "  </tbody>\n",
       "</table>\n",
       "</div>"
      ],
      "text/plain": [
       "            Dividends  Stock Splits\n",
       "Date                               \n",
       "2009-07-24   0.901093           2.0\n",
       "2010-08-18   0.901093           0.0\n",
       "2011-08-17   0.901093           0.0\n",
       "2012-08-16   0.901093           0.0\n",
       "2013-05-23   0.901093           0.0\n",
       "2014-08-21   1.468782           0.0\n",
       "2015-08-13   2.000427           0.0\n",
       "2016-08-11   1.225487           0.0\n",
       "2017-07-13   0.901093           0.0\n",
       "2018-01-30   2.559105           0.0\n",
       "2018-08-02   2.252733           0.0\n",
       "2018-11-05   2.252733           0.0\n",
       "2020-08-06   1.963167           0.0"
      ]
     },
     "execution_count": 51,
     "metadata": {},
     "output_type": "execute_result"
    }
   ],
   "source": [
    "ticker_info.actions"
   ]
  },
  {
   "cell_type": "markdown",
   "metadata": {},
   "source": [
    "# VAR"
   ]
  },
  {
   "cell_type": "code",
   "execution_count": 52,
   "metadata": {},
   "outputs": [],
   "source": [
    "def var_historic(r, level=1):\n",
    "    \"\"\"\n",
    "    Takes in a series of returns (r), and the percentage level\n",
    "(level)\n",
    "    Returns the historic Value at Risk at a specified level\n",
    "    i.e. returns the number such that \"level\" percent of the returns\n",
    "    fall below that number, and the (100-level) percent are above\n",
    "    \"\"\"\n",
    "    if isinstance(r, pd.DataFrame):\n",
    "        return r.aggregate(var_historic, level=level)\n",
    "    elif isinstance(r, pd.Series):\n",
    "        return -np.percentile(r, level)\n",
    "    else:\n",
    "        raise TypeError(\"Expected r to be a Series or DataFrame\")"
   ]
  },
  {
   "cell_type": "code",
   "execution_count": 53,
   "metadata": {},
   "outputs": [
    {
     "data": {
      "text/plain": [
       "-0.043033137186864495"
      ]
     },
     "execution_count": 53,
     "metadata": {},
     "output_type": "execute_result"
    }
   ],
   "source": [
    "var_historic(df_returns['AXISBANK.BO'], level = 95)"
   ]
  },
  {
   "cell_type": "code",
   "execution_count": 55,
   "metadata": {},
   "outputs": [],
   "source": [
    "# distribution fitting\n",
    "def distribution_fitting(data, dist = 'norm', conf_interval = 0.9999):\n",
    "\n",
    "    x_quantile = np.linspace(np.min(data), np.max(data), len(data))\n",
    "\n",
    "    if dist == 'norm':\n",
    "        param = f.fitted_param[dist]\n",
    "        a_tmp = norm.pdf(x_quantile, loc = param[0], scale = param[1])\n",
    "        # var = \n",
    "    \n",
    "    elif dist == 't':\n",
    "        param = f.fitted_param[dist]\n",
    "        a_tmp = t.pdf(x_quantile, param[0], param[1], param[2])\n",
    "\n",
    "    elif dist == 'nct':\n",
    "        param = f.fitted_param[dist]\n",
    "        a_tmp = nct.pdf(x_quantile, param[0], param[1], param[2], param[3])\n",
    "    \n",
    "\n",
    "    plt.hist(data, bins = 100,  density = True)\n",
    "    plt.plot(x_quantile, a_tmp, color = 'black')\n",
    "\n",
    "    return x_quantile, a_tmp\n",
    "    "
   ]
  },
  {
   "cell_type": "markdown",
   "metadata": {},
   "source": [
    "# BSM Estimation of Price Fluctuations"
   ]
  },
  {
   "cell_type": "code",
   "execution_count": 110,
   "metadata": {},
   "outputs": [],
   "source": [
    "def bsm_estimation_price(data, T = 1, change = 10):\n",
    "    # r = np.mean(data) * T\n",
    "    r = 0.02 * T\n",
    "\n",
    "    #sigma = np.std(data) * T\n",
    "    sigma = 0.15 * T\n",
    "\n",
    "    K = data[-1]\n",
    "    S = K * (1 + (change/100))\n",
    "    # S_down = K * 0.9\n",
    "\n",
    "    d1 = (sigma * np.sqrt(T)) ** -1 * ((np.log(S/K)) + (r + 0.5 * sigma ** 2) * T)\n",
    "    d2 = d1 - sigma * np.sqrt(T)\n",
    "\n",
    "    d1 = norm.pdf(d1, r,sigma) * 100\n",
    "    d2 = norm.pdf(d2, r,sigma) * 100\n",
    "\n",
    "    return r, sigma, K, S, d1, d2\n",
    "\n",
    "\n",
    "\n"
   ]
  },
  {
   "cell_type": "code",
   "execution_count": 118,
   "metadata": {},
   "outputs": [
    {
     "data": {
      "text/plain": [
       "(0.1,\n",
       " 0.75,\n",
       " 788.9500122070312,\n",
       " 1183.4250183105469,\n",
       " 12.442332682739982,\n",
       " 46.18605603788807)"
      ]
     },
     "execution_count": 118,
     "metadata": {},
     "output_type": "execute_result"
    }
   ],
   "source": [
    "bsm_estimation_price(df_subset_vis['AXISBANK.BO'], T = 5, change = 50)"
   ]
  },
  {
   "cell_type": "code",
   "execution_count": null,
   "metadata": {},
   "outputs": [],
   "source": []
  },
  {
   "cell_type": "code",
   "execution_count": null,
   "metadata": {},
   "outputs": [],
   "source": []
  },
  {
   "cell_type": "code",
   "execution_count": null,
   "metadata": {},
   "outputs": [],
   "source": []
  }
 ],
 "metadata": {
  "interpreter": {
   "hash": "379d613cdeb7d076b29a73700569b09896bfa883f44ebe4bfc1470b9c463640e"
  },
  "kernelspec": {
   "display_name": "Python 3.9.6 64-bit ('venv': venv)",
   "name": "python3"
  },
  "language_info": {
   "codemirror_mode": {
    "name": "ipython",
    "version": 3
   },
   "file_extension": ".py",
   "mimetype": "text/x-python",
   "name": "python",
   "nbconvert_exporter": "python",
   "pygments_lexer": "ipython3",
   "version": "3.10.1"
  },
  "orig_nbformat": 4
 },
 "nbformat": 4,
 "nbformat_minor": 2
}
